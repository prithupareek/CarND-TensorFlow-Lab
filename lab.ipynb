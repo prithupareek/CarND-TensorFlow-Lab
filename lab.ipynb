{
 "cells": [
  {
   "cell_type": "markdown",
   "metadata": {},
   "source": [
    "<h1 align=\"center\">TensorFlow Neural Network Lab</h1>"
   ]
  },
  {
   "cell_type": "markdown",
   "metadata": {},
   "source": [
    "<img src=\"image/notmnist.png\">\n",
    "In this lab, you'll use all the tools you learned from *Introduction to TensorFlow* to label images of English letters! The data you are using, <a href=\"http://yaroslavvb.blogspot.com/2011/09/notmnist-dataset.html\">notMNIST</a>, consists of images of a letter from A to J in differents font.\n",
    "\n",
    "The above images are a few examples of the data you'll be training on. After training the network, you will compare your prediction model against test data. Your goal, by the end of this lab, is to make predictions against that test set with at least an 80% accuracy. Let's jump in!"
   ]
  },
  {
   "cell_type": "markdown",
   "metadata": {},
   "source": [
    "To start this lab, you first need to import all the necessary modules. Run the code below. If it runs successfully, it will print \"`All modules imported`\"."
   ]
  },
  {
   "cell_type": "code",
   "execution_count": 24,
   "metadata": {},
   "outputs": [
    {
     "output_type": "stream",
     "name": "stdout",
     "text": [
      "All modules imported.\n"
     ]
    }
   ],
   "source": [
    "import hashlib\n",
    "import tensorflow as tf\n",
    "import math\n",
    "import matplotlib.pyplot as plt\n",
    "import os\n",
    "import pickle\n",
    "from urllib.request import urlretrieve\n",
    "\n",
    "import numpy as np\n",
    "from PIL import Image\n",
    "from sklearn.model_selection import train_test_split\n",
    "from sklearn.preprocessing import LabelBinarizer\n",
    "from sklearn.utils import resample\n",
    "from tqdm import tqdm\n",
    "from zipfile import ZipFile\n",
    "\n",
    "print('All modules imported.')"
   ]
  },
  {
   "cell_type": "markdown",
   "metadata": {},
   "source": [
    "The notMNIST dataset is too large for many computers to handle.  It contains 500,000 images for just training.  You'll be using a subset of this data, 15,000 images for each label (A-J)."
   ]
  },
  {
   "cell_type": "code",
   "execution_count": 2,
   "metadata": {},
   "outputs": [
    {
     "output_type": "stream",
     "name": "stdout",
     "text": [
      "Downloading notMNIST_train.zip...\n",
      "Download Finished\n",
      "Downloading notMNIST_test.zip...\n",
      "Download Finished\n",
      "All files downloaded.\n"
     ]
    }
   ],
   "source": [
    "def download(url, file):\n",
    "    \"\"\"\n",
    "    Download file from <url>\n",
    "    :param url: URL to file\n",
    "    :param file: Local file path\n",
    "    \"\"\"\n",
    "    if not os.path.isfile(file):\n",
    "        print('Downloading ' + file + '...')\n",
    "        urlretrieve(url, file)\n",
    "        print('Download Finished')\n",
    "\n",
    "# Download the training and test dataset.\n",
    "download('https://s3.amazonaws.com/udacity-sdc/notMNIST_train.zip', 'notMNIST_train.zip')\n",
    "download('https://s3.amazonaws.com/udacity-sdc/notMNIST_test.zip', 'notMNIST_test.zip')\n",
    "\n",
    "# Make sure the files aren't corrupted\n",
    "assert hashlib.md5(open('notMNIST_train.zip', 'rb').read()).hexdigest() == 'c8673b3f28f489e9cdf3a3d74e2ac8fa',\\\n",
    "        'notMNIST_train.zip file is corrupted.  Remove the file and try again.'\n",
    "assert hashlib.md5(open('notMNIST_test.zip', 'rb').read()).hexdigest() == '5d3c7e653e63471c88df796156a9dfa9',\\\n",
    "        'notMNIST_test.zip file is corrupted.  Remove the file and try again.'\n",
    "\n",
    "# Wait until you see that all files have been downloaded.\n",
    "print('All files downloaded.')"
   ]
  },
  {
   "cell_type": "code",
   "execution_count": 3,
   "metadata": {},
   "outputs": [
    {
     "output_type": "stream",
     "name": "stderr",
     "text": [
      "100%|██████████| 210001/210001 [00:33<00:00, 6313.26files/s]\n",
      "100%|██████████| 10001/10001 [00:01<00:00, 6462.36files/s]\n",
      "All features and labels uncompressed.\n"
     ]
    }
   ],
   "source": [
    "def uncompress_features_labels(file):\n",
    "    \"\"\"\n",
    "    Uncompress features and labels from a zip file\n",
    "    :param file: The zip file to extract the data from\n",
    "    \"\"\"\n",
    "    features = []\n",
    "    labels = []\n",
    "\n",
    "    with ZipFile(file) as zipf:\n",
    "        # Progress Bar\n",
    "        filenames_pbar = tqdm(zipf.namelist(), unit='files')\n",
    "        \n",
    "        # Get features and labels from all files\n",
    "        for filename in filenames_pbar:\n",
    "            # Check if the file is a directory\n",
    "            if not filename.endswith('/'):\n",
    "                with zipf.open(filename) as image_file:\n",
    "                    image = Image.open(image_file)\n",
    "                    image.load()\n",
    "                    # Load image data as 1 dimensional array\n",
    "                    # We're using float32 to save on memory space\n",
    "                    feature = np.array(image, dtype=np.float32).flatten()\n",
    "\n",
    "                # Get the the letter from the filename.  This is the letter of the image.\n",
    "                label = os.path.split(filename)[1][0]\n",
    "\n",
    "                features.append(feature)\n",
    "                labels.append(label)\n",
    "    return np.array(features), np.array(labels)\n",
    "\n",
    "# Get the features and labels from the zip files\n",
    "train_features, train_labels = uncompress_features_labels('notMNIST_train.zip')\n",
    "test_features, test_labels = uncompress_features_labels('notMNIST_test.zip')\n",
    "\n",
    "# Limit the amount of data to work with a docker container\n",
    "docker_size_limit = 150000\n",
    "train_features, train_labels = resample(train_features, train_labels, n_samples=docker_size_limit)\n",
    "\n",
    "# Set flags for feature engineering.  This will prevent you from skipping an important step.\n",
    "is_features_normal = False\n",
    "is_labels_encod = False\n",
    "\n",
    "# Wait until you see that all features and labels have been uncompressed.\n",
    "print('All features and labels uncompressed.')"
   ]
  },
  {
   "cell_type": "markdown",
   "metadata": {},
   "source": [
    "<img src=\"image/mean_variance.png\" style=\"height: 75%;width: 75%; position: relative; right: 5%\">\n",
    "\n",
    "## Problem 1\n",
    "\n",
    "The first problem involves normalizing the features for your training and test data.\n",
    "\n",
    "Implement Min-Max scaling in the `normalize()` function to a range of `a=0.1` and `b=0.9`. After scaling, the values of the pixels in the input data should range from 0.1 to 0.9.\n",
    "\n",
    "Since the raw notMNIST image data is in [grayscale](https://en.wikipedia.org/wiki/Grayscale), the current values range from a min of 0 to a max of 255.\n",
    "\n",
    "Min-Max Scaling:\n",
    "$\n",
    "X'=a+{\\frac {\\left(X-X_{\\min }\\right)\\left(b-a\\right)}{X_{\\max }-X_{\\min }}}\n",
    "$\n",
    "\n",
    "*If you're having trouble solving problem 1, you can view the solution [here](https://github.com/udacity/CarND-TensorFlow-Lab/blob/master/solutions.ipynb).*"
   ]
  },
  {
   "cell_type": "code",
   "execution_count": 10,
   "metadata": {},
   "outputs": [
    {
     "output_type": "stream",
     "name": "stdout",
     "text": [
      "Tests Passed!\n"
     ]
    }
   ],
   "source": [
    "# Problem 1 - Implement Min-Max scaling for grayscale image data\n",
    "def normalize_grayscale(image_data):\n",
    "    \"\"\"\n",
    "    Normalize the image data with Min-Max scaling to a range of [0.1, 0.9]\n",
    "    :param image_data: The image data to be normalized\n",
    "    :return: Normalized image data\n",
    "    \"\"\"\n",
    "    a = 0.1\n",
    "    b = 0.9\n",
    "    x_max = 255\n",
    "    x_min = 0\n",
    "    \n",
    "    x_prime = a + ((image_data - x_min)*(b-a))/(x_max - x_min)\n",
    "    return x_prime\n",
    "\n",
    "\n",
    "### DON'T MODIFY ANYTHING BELOW ###\n",
    "# Test Cases\n",
    "np.testing.assert_array_almost_equal(\n",
    "    normalize_grayscale(np.array([0, 1, 2, 3, 4, 5, 6, 7, 8, 9, 10, 255])),\n",
    "    [0.1, 0.103137254902, 0.106274509804, 0.109411764706, 0.112549019608, 0.11568627451, 0.118823529412, 0.121960784314,\n",
    "     0.125098039216, 0.128235294118, 0.13137254902, 0.9],\n",
    "    decimal=3)\n",
    "np.testing.assert_array_almost_equal(\n",
    "    normalize_grayscale(np.array([0, 1, 10, 20, 30, 40, 233, 244, 254,255])),\n",
    "    [0.1, 0.103137254902, 0.13137254902, 0.162745098039, 0.194117647059, 0.225490196078, 0.830980392157, 0.865490196078,\n",
    "     0.896862745098, 0.9])\n",
    "\n",
    "if not is_features_normal:\n",
    "    train_features = normalize_grayscale(train_features)\n",
    "    test_features = normalize_grayscale(test_features)\n",
    "    is_features_normal = True\n",
    "\n",
    "print('Tests Passed!')"
   ]
  },
  {
   "cell_type": "code",
   "execution_count": 11,
   "metadata": {},
   "outputs": [
    {
     "output_type": "stream",
     "name": "stdout",
     "text": [
      "Labels One-Hot Encoded\n"
     ]
    }
   ],
   "source": [
    "if not is_labels_encod:\n",
    "    # Turn labels into numbers and apply One-Hot Encoding\n",
    "    encoder = LabelBinarizer()\n",
    "    encoder.fit(train_labels)\n",
    "    train_labels = encoder.transform(train_labels)\n",
    "    test_labels = encoder.transform(test_labels)\n",
    "\n",
    "    # Change to float32, so it can be multiplied against the features in TensorFlow, which are float32\n",
    "    train_labels = train_labels.astype(np.float32)\n",
    "    test_labels = test_labels.astype(np.float32)\n",
    "    is_labels_encod = True\n",
    "\n",
    "print('Labels One-Hot Encoded')"
   ]
  },
  {
   "cell_type": "code",
   "execution_count": 12,
   "metadata": {},
   "outputs": [
    {
     "output_type": "stream",
     "name": "stdout",
     "text": [
      "Training features and labels randomized and split.\n"
     ]
    }
   ],
   "source": [
    "assert is_features_normal, 'You skipped the step to normalize the features'\n",
    "assert is_labels_encod, 'You skipped the step to One-Hot Encode the labels'\n",
    "\n",
    "# Get randomized datasets for training and validation\n",
    "train_features, valid_features, train_labels, valid_labels = train_test_split(\n",
    "    train_features,\n",
    "    train_labels,\n",
    "    test_size=0.05,\n",
    "    random_state=832289)\n",
    "\n",
    "print('Training features and labels randomized and split.')"
   ]
  },
  {
   "cell_type": "code",
   "execution_count": 13,
   "metadata": {},
   "outputs": [
    {
     "output_type": "stream",
     "name": "stdout",
     "text": [
      "Saving data to pickle file...\n",
      "Data cached in pickle file.\n"
     ]
    }
   ],
   "source": [
    "# Save the data for easy access\n",
    "pickle_file = 'notMNIST.pickle'\n",
    "if not os.path.isfile(pickle_file):\n",
    "    print('Saving data to pickle file...')\n",
    "    try:\n",
    "        with open('notMNIST.pickle', 'wb') as pfile:\n",
    "            pickle.dump(\n",
    "                {\n",
    "                    'train_dataset': train_features,\n",
    "                    'train_labels': train_labels,\n",
    "                    'valid_dataset': valid_features,\n",
    "                    'valid_labels': valid_labels,\n",
    "                    'test_dataset': test_features,\n",
    "                    'test_labels': test_labels,\n",
    "                },\n",
    "                pfile, pickle.HIGHEST_PROTOCOL)\n",
    "    except Exception as e:\n",
    "        print('Unable to save data to', pickle_file, ':', e)\n",
    "        raise\n",
    "\n",
    "print('Data cached in pickle file.')"
   ]
  },
  {
   "cell_type": "markdown",
   "metadata": {},
   "source": [
    "# Checkpoint\n",
    "All your progress is now saved to the pickle file.  If you need to leave and comeback to this lab, you no longer have to start from the beginning.  Just run the code block below and it will load all the data and modules required to proceed."
   ]
  },
  {
   "cell_type": "code",
   "execution_count": null,
   "metadata": {},
   "outputs": [],
   "source": [
    "%matplotlib inline\n",
    "\n",
    "# Load the modules\n",
    "import pickle\n",
    "import math\n",
    "\n",
    "import numpy as np\n",
    "import tensorflow as tf\n",
    "from tqdm import tqdm\n",
    "import matplotlib.pyplot as plt\n",
    "\n",
    "# Reload the data\n",
    "pickle_file = 'notMNIST.pickle'\n",
    "with open(pickle_file, 'rb') as f:\n",
    "  pickle_data = pickle.load(f)\n",
    "  train_features = pickle_data['train_dataset']\n",
    "  train_labels = pickle_data['train_labels']\n",
    "  valid_features = pickle_data['valid_dataset']\n",
    "  valid_labels = pickle_data['valid_labels']\n",
    "  test_features = pickle_data['test_dataset']\n",
    "  test_labels = pickle_data['test_labels']\n",
    "  del pickle_data  # Free up memory\n",
    "\n",
    "\n",
    "print('Data and modules loaded.')"
   ]
  },
  {
   "cell_type": "markdown",
   "metadata": {},
   "source": [
    "<img src=\"image/weight_biases.png\" style=\"height: 60%;width: 60%; position: relative; right: 10%\">\n",
    "\n",
    "## Problem 2\n",
    "\n",
    "For the neural network to train on your data, you need the following <a href=\"https://www.tensorflow.org/api_docs/python/tf/dtypes/DType\">float32</a> tensors:\n",
    " - `features`\n",
    "  - Placeholder tensor for feature data (`train_features`/`valid_features`/`test_features`)\n",
    " - `labels`\n",
    "  - Placeholder tensor for label data (`train_labels`/`valid_labels`/`test_labels`)\n",
    " - `weights`\n",
    "  - Variable Tensor with random numbers from a truncated normal distribution.\n",
    "    - See <a href=\"https://www.tensorflow.org/api_docs/python/tf/random/truncated_normal\">`tf.truncated_normal()` documentation</a> for help.\n",
    " - `biases`\n",
    "  - Variable Tensor with all zeros.\n",
    "    - See <a href=\"https://www.tensorflow.org/api_docs/python/tf/zeros\"> `tf.zeros()` documentation</a> for help.\n",
    "\n",
    "*If you're having trouble solving problem 2, review \"TensorFlow Linear Function\" section of the class.  If that doesn't help, the solution for this problem is available [here](https://github.com/udacity/CarND-TensorFlow-Lab/blob/master/solutions.ipynb).*"
   ]
  },
  {
   "cell_type": "code",
   "execution_count": 16,
   "metadata": {},
   "outputs": [
    {
     "output_type": "stream",
     "name": "stdout",
     "text": [
      "WARNING:tensorflow:Tensor._shape is private, use Tensor.shape instead. Tensor._shape will eventually be removed.\n",
      "WARNING:tensorflow:Tensor._shape is private, use Tensor.shape instead. Tensor._shape will eventually be removed.\n",
      "WARNING:tensorflow:Tensor._shape is private, use Tensor.shape instead. Tensor._shape will eventually be removed.\n",
      "WARNING:tensorflow:Tensor._shape is private, use Tensor.shape instead. Tensor._shape will eventually be removed.\n",
      "Tests Passed!\n"
     ]
    }
   ],
   "source": [
    "features_count = 784\n",
    "labels_count = 10\n",
    "\n",
    "features = tf.placeholder(tf.float32)\n",
    "labels = tf.placeholder(tf.float32)\n",
    "\n",
    "weights = tf.Variable(tf.truncated_normal((features_count, labels_count)))\n",
    "biases = tf.Variable(tf.zeros(labels_count))\n",
    "\n",
    "\n",
    "\n",
    "### DON'T MODIFY ANYTHING BELOW ###\n",
    "\n",
    "#Test Cases\n",
    "from tensorflow.python.ops.variables import Variable\n",
    "\n",
    "assert features._op.name.startswith('Placeholder'), 'features must be a placeholder'\n",
    "assert labels._op.name.startswith('Placeholder'), 'labels must be a placeholder'\n",
    "assert isinstance(weights, Variable), 'weights must be a TensorFlow variable'\n",
    "assert isinstance(biases, Variable), 'biases must be a TensorFlow variable'\n",
    "\n",
    "assert features._shape == None or (\\\n",
    "    features._shape.dims[0].value is None and\\\n",
    "    features._shape.dims[1].value in [None, 784]), 'The shape of features is incorrect'\n",
    "assert labels._shape  == None or (\\\n",
    "    labels._shape.dims[0].value is None and\\\n",
    "    labels._shape.dims[1].value in [None, 10]), 'The shape of labels is incorrect'\n",
    "assert weights._variable._shape == (784, 10), 'The shape of weights is incorrect'\n",
    "assert biases._variable._shape == (10), 'The shape of biases is incorrect'\n",
    "\n",
    "assert features._dtype == tf.float32, 'features must be type float32'\n",
    "assert labels._dtype == tf.float32, 'labels must be type float32'\n",
    "\n",
    "# Feed dicts for training, validation, and test session\n",
    "train_feed_dict = {features: train_features, labels: train_labels}\n",
    "valid_feed_dict = {features: valid_features, labels: valid_labels}\n",
    "test_feed_dict = {features: test_features, labels: test_labels}\n",
    "\n",
    "# Linear Function WX + b\n",
    "logits = tf.matmul(features, weights) + biases\n",
    "\n",
    "prediction = tf.nn.softmax(logits)\n",
    "\n",
    "# Cross entropy\n",
    "cross_entropy = -tf.reduce_sum(labels * tf.log(prediction), axis=1)\n",
    "\n",
    "# some students have encountered challenges using this function, and have resolved issues\n",
    "# using https://www.tensorflow.org/api_docs/python/tf/nn/softmax_cross_entropy_with_logits\n",
    "# please see this thread for more detail https://discussions.udacity.com/t/accuracy-0-10-in-the-intro-to-tensorflow-lab/272469/9\n",
    "\n",
    "# Training loss\n",
    "loss = tf.reduce_mean(cross_entropy)\n",
    "\n",
    "# Create an operation that initializes all variables\n",
    "init = tf.global_variables_initializer()\n",
    "\n",
    "# Test Cases\n",
    "with tf.Session() as session:\n",
    "    session.run(init)\n",
    "    session.run(loss, feed_dict=train_feed_dict)\n",
    "    session.run(loss, feed_dict=valid_feed_dict)\n",
    "    session.run(loss, feed_dict=test_feed_dict)\n",
    "    biases_data = session.run(biases)\n",
    "\n",
    "assert not np.count_nonzero(biases_data), 'biases must be zeros'\n",
    "\n",
    "print('Tests Passed!')"
   ]
  },
  {
   "cell_type": "code",
   "execution_count": 17,
   "metadata": {},
   "outputs": [
    {
     "output_type": "stream",
     "name": "stdout",
     "text": [
      "Accuracy function created.\n"
     ]
    }
   ],
   "source": [
    "# Determine if the predictions are correct\n",
    "is_correct_prediction = tf.equal(tf.argmax(prediction, 1), tf.argmax(labels, 1))\n",
    "# Calculate the accuracy of the predictions\n",
    "accuracy = tf.reduce_mean(tf.cast(is_correct_prediction, tf.float32))\n",
    "\n",
    "print('Accuracy function created.')"
   ]
  },
  {
   "cell_type": "markdown",
   "metadata": {},
   "source": [
    "<img src=\"image/learn_rate_tune.png\" style=\"height: 60%;width: 60%\">\n",
    "\n",
    "## Problem 3\n",
    "\n",
    "Below are 3 parameter configurations for training the neural network. In each configuration, one of the parameters has multiple options. For each configuration, choose the option that gives the best acccuracy.\n",
    "\n",
    "Parameter configurations:\n",
    "\n",
    "Configuration 1\n",
    "* **Epochs:** 1\n",
    "* **Batch Size:**\n",
    "  * 2000\n",
    "  * 1000\n",
    "  * 500\n",
    "  * 300\n",
    "  * 50\n",
    "* **Learning Rate:** 0.01\n",
    "\n",
    "Configuration 2\n",
    "* **Epochs:** 1\n",
    "* **Batch Size:** 100\n",
    "* **Learning Rate:**\n",
    "  * 0.8\n",
    "  * 0.5\n",
    "  * 0.1\n",
    "  * 0.05\n",
    "  * 0.01\n",
    "\n",
    "Configuration 3\n",
    "* **Epochs:**\n",
    "  * 1\n",
    "  * 2\n",
    "  * 3\n",
    "  * 4\n",
    "  * 5\n",
    "* **Batch Size:** 100\n",
    "* **Learning Rate:** 0.2\n",
    "\n",
    "The code will print out a Loss and Accuracy graph, so you can see how well the neural network performed.\n",
    "\n",
    "*If you're having trouble solving problem 3, you can view the solution [here](https://github.com/udacity/CarND-TensorFlow-Lab/blob/master/solutions.ipynb).*"
   ]
  },
  {
   "cell_type": "code",
   "execution_count": 44,
   "metadata": {},
   "outputs": [
    {
     "output_type": "stream",
     "name": "stderr",
     "text": [
      "Epoch  1/5: 100%|██████████| 1425/1425 [00:01<00:00, 811.08batches/s]\n",
      "Epoch  2/5: 100%|██████████| 1425/1425 [00:01<00:00, 859.11batches/s]\n",
      "Epoch  3/5: 100%|██████████| 1425/1425 [00:01<00:00, 860.24batches/s]\n",
      "Epoch  4/5: 100%|██████████| 1425/1425 [00:01<00:00, 853.36batches/s]\n",
      "Epoch  5/5: 100%|██████████| 1425/1425 [00:01<00:00, 868.96batches/s]\n"
     ]
    },
    {
     "output_type": "display_data",
     "data": {
      "text/plain": "<Figure size 432x288 with 2 Axes>",
      "image/svg+xml": "<?xml version=\"1.0\" encoding=\"utf-8\" standalone=\"no\"?>\n<!DOCTYPE svg PUBLIC \"-//W3C//DTD SVG 1.1//EN\"\n  \"http://www.w3.org/Graphics/SVG/1.1/DTD/svg11.dtd\">\n<!-- Created with matplotlib (https://matplotlib.org/) -->\n<svg height=\"279.59625pt\" version=\"1.1\" viewBox=\"0 0 423.565625 279.59625\" width=\"423.565625pt\" xmlns=\"http://www.w3.org/2000/svg\" xmlns:xlink=\"http://www.w3.org/1999/xlink\">\n <metadata>\n  <rdf:RDF xmlns:cc=\"http://creativecommons.org/ns#\" xmlns:dc=\"http://purl.org/dc/elements/1.1/\" xmlns:rdf=\"http://www.w3.org/1999/02/22-rdf-syntax-ns#\">\n   <cc:Work>\n    <dc:type rdf:resource=\"http://purl.org/dc/dcmitype/StillImage\"/>\n    <dc:date>2021-01-03T17:44:19.365467</dc:date>\n    <dc:format>image/svg+xml</dc:format>\n    <dc:creator>\n     <cc:Agent>\n      <dc:title>Matplotlib v3.3.2, https://matplotlib.org/</dc:title>\n     </cc:Agent>\n    </dc:creator>\n   </cc:Work>\n  </rdf:RDF>\n </metadata>\n <defs>\n  <style type=\"text/css\">*{stroke-linecap:butt;stroke-linejoin:round;}</style>\n </defs>\n <g id=\"figure_1\">\n  <g id=\"patch_1\">\n   <path d=\"M 0 279.59625 \nL 423.565625 279.59625 \nL 423.565625 0 \nL 0 0 \nz\n\" style=\"fill:none;\"/>\n  </g>\n  <g id=\"axes_1\">\n   <g id=\"patch_2\">\n    <path d=\"M 36.465625 117.118125 \nL 416.365625 117.118125 \nL 416.365625 22.318125 \nL 36.465625 22.318125 \nz\n\" style=\"fill:#ffffff;\"/>\n   </g>\n   <g id=\"matplotlib.axis_1\">\n    <g id=\"xtick_1\">\n     <g id=\"line2d_1\">\n      <defs>\n       <path d=\"M 0 0 \nL 0 3.5 \n\" id=\"m3748a5943b\" style=\"stroke:#000000;stroke-width:0.8;\"/>\n      </defs>\n      <g>\n       <use style=\"stroke:#000000;stroke-width:0.8;\" x=\"86.591319\" xlink:href=\"#m3748a5943b\" y=\"117.118125\"/>\n      </g>\n     </g>\n     <g id=\"text_1\">\n      <!-- 1000 -->\n      <g transform=\"translate(73.866319 131.716563)scale(0.1 -0.1)\">\n       <defs>\n        <path d=\"M 12.40625 8.296875 \nL 28.515625 8.296875 \nL 28.515625 63.921875 \nL 10.984375 60.40625 \nL 10.984375 69.390625 \nL 28.421875 72.90625 \nL 38.28125 72.90625 \nL 38.28125 8.296875 \nL 54.390625 8.296875 \nL 54.390625 0 \nL 12.40625 0 \nz\n\" id=\"DejaVuSans-49\"/>\n        <path d=\"M 31.78125 66.40625 \nQ 24.171875 66.40625 20.328125 58.90625 \nQ 16.5 51.421875 16.5 36.375 \nQ 16.5 21.390625 20.328125 13.890625 \nQ 24.171875 6.390625 31.78125 6.390625 \nQ 39.453125 6.390625 43.28125 13.890625 \nQ 47.125 21.390625 47.125 36.375 \nQ 47.125 51.421875 43.28125 58.90625 \nQ 39.453125 66.40625 31.78125 66.40625 \nz\nM 31.78125 74.21875 \nQ 44.046875 74.21875 50.515625 64.515625 \nQ 56.984375 54.828125 56.984375 36.375 \nQ 56.984375 17.96875 50.515625 8.265625 \nQ 44.046875 -1.421875 31.78125 -1.421875 \nQ 19.53125 -1.421875 13.0625 8.265625 \nQ 6.59375 17.96875 6.59375 36.375 \nQ 6.59375 54.828125 13.0625 64.515625 \nQ 19.53125 74.21875 31.78125 74.21875 \nz\n\" id=\"DejaVuSans-48\"/>\n       </defs>\n       <use xlink:href=\"#DejaVuSans-49\"/>\n       <use x=\"63.623047\" xlink:href=\"#DejaVuSans-48\"/>\n       <use x=\"127.246094\" xlink:href=\"#DejaVuSans-48\"/>\n       <use x=\"190.869141\" xlink:href=\"#DejaVuSans-48\"/>\n      </g>\n     </g>\n    </g>\n    <g id=\"xtick_2\">\n     <g id=\"line2d_2\">\n      <g>\n       <use style=\"stroke:#000000;stroke-width:0.8;\" x=\"139.355208\" xlink:href=\"#m3748a5943b\" y=\"117.118125\"/>\n      </g>\n     </g>\n     <g id=\"text_2\">\n      <!-- 2000 -->\n      <g transform=\"translate(126.630208 131.716563)scale(0.1 -0.1)\">\n       <defs>\n        <path d=\"M 19.1875 8.296875 \nL 53.609375 8.296875 \nL 53.609375 0 \nL 7.328125 0 \nL 7.328125 8.296875 \nQ 12.9375 14.109375 22.625 23.890625 \nQ 32.328125 33.6875 34.8125 36.53125 \nQ 39.546875 41.84375 41.421875 45.53125 \nQ 43.3125 49.21875 43.3125 52.78125 \nQ 43.3125 58.59375 39.234375 62.25 \nQ 35.15625 65.921875 28.609375 65.921875 \nQ 23.96875 65.921875 18.8125 64.3125 \nQ 13.671875 62.703125 7.8125 59.421875 \nL 7.8125 69.390625 \nQ 13.765625 71.78125 18.9375 73 \nQ 24.125 74.21875 28.421875 74.21875 \nQ 39.75 74.21875 46.484375 68.546875 \nQ 53.21875 62.890625 53.21875 53.421875 \nQ 53.21875 48.921875 51.53125 44.890625 \nQ 49.859375 40.875 45.40625 35.40625 \nQ 44.1875 33.984375 37.640625 27.21875 \nQ 31.109375 20.453125 19.1875 8.296875 \nz\n\" id=\"DejaVuSans-50\"/>\n       </defs>\n       <use xlink:href=\"#DejaVuSans-50\"/>\n       <use x=\"63.623047\" xlink:href=\"#DejaVuSans-48\"/>\n       <use x=\"127.246094\" xlink:href=\"#DejaVuSans-48\"/>\n       <use x=\"190.869141\" xlink:href=\"#DejaVuSans-48\"/>\n      </g>\n     </g>\n    </g>\n    <g id=\"xtick_3\">\n     <g id=\"line2d_3\">\n      <g>\n       <use style=\"stroke:#000000;stroke-width:0.8;\" x=\"192.119097\" xlink:href=\"#m3748a5943b\" y=\"117.118125\"/>\n      </g>\n     </g>\n     <g id=\"text_3\">\n      <!-- 3000 -->\n      <g transform=\"translate(179.394097 131.716563)scale(0.1 -0.1)\">\n       <defs>\n        <path d=\"M 40.578125 39.3125 \nQ 47.65625 37.796875 51.625 33 \nQ 55.609375 28.21875 55.609375 21.1875 \nQ 55.609375 10.40625 48.1875 4.484375 \nQ 40.765625 -1.421875 27.09375 -1.421875 \nQ 22.515625 -1.421875 17.65625 -0.515625 \nQ 12.796875 0.390625 7.625 2.203125 \nL 7.625 11.71875 \nQ 11.71875 9.328125 16.59375 8.109375 \nQ 21.484375 6.890625 26.8125 6.890625 \nQ 36.078125 6.890625 40.9375 10.546875 \nQ 45.796875 14.203125 45.796875 21.1875 \nQ 45.796875 27.640625 41.28125 31.265625 \nQ 36.765625 34.90625 28.71875 34.90625 \nL 20.21875 34.90625 \nL 20.21875 43.015625 \nL 29.109375 43.015625 \nQ 36.375 43.015625 40.234375 45.921875 \nQ 44.09375 48.828125 44.09375 54.296875 \nQ 44.09375 59.90625 40.109375 62.90625 \nQ 36.140625 65.921875 28.71875 65.921875 \nQ 24.65625 65.921875 20.015625 65.03125 \nQ 15.375 64.15625 9.8125 62.3125 \nL 9.8125 71.09375 \nQ 15.4375 72.65625 20.34375 73.4375 \nQ 25.25 74.21875 29.59375 74.21875 \nQ 40.828125 74.21875 47.359375 69.109375 \nQ 53.90625 64.015625 53.90625 55.328125 \nQ 53.90625 49.265625 50.4375 45.09375 \nQ 46.96875 40.921875 40.578125 39.3125 \nz\n\" id=\"DejaVuSans-51\"/>\n       </defs>\n       <use xlink:href=\"#DejaVuSans-51\"/>\n       <use x=\"63.623047\" xlink:href=\"#DejaVuSans-48\"/>\n       <use x=\"127.246094\" xlink:href=\"#DejaVuSans-48\"/>\n       <use x=\"190.869141\" xlink:href=\"#DejaVuSans-48\"/>\n      </g>\n     </g>\n    </g>\n    <g id=\"xtick_4\">\n     <g id=\"line2d_4\">\n      <g>\n       <use style=\"stroke:#000000;stroke-width:0.8;\" x=\"244.882986\" xlink:href=\"#m3748a5943b\" y=\"117.118125\"/>\n      </g>\n     </g>\n     <g id=\"text_4\">\n      <!-- 4000 -->\n      <g transform=\"translate(232.157986 131.716563)scale(0.1 -0.1)\">\n       <defs>\n        <path d=\"M 37.796875 64.3125 \nL 12.890625 25.390625 \nL 37.796875 25.390625 \nz\nM 35.203125 72.90625 \nL 47.609375 72.90625 \nL 47.609375 25.390625 \nL 58.015625 25.390625 \nL 58.015625 17.1875 \nL 47.609375 17.1875 \nL 47.609375 0 \nL 37.796875 0 \nL 37.796875 17.1875 \nL 4.890625 17.1875 \nL 4.890625 26.703125 \nz\n\" id=\"DejaVuSans-52\"/>\n       </defs>\n       <use xlink:href=\"#DejaVuSans-52\"/>\n       <use x=\"63.623047\" xlink:href=\"#DejaVuSans-48\"/>\n       <use x=\"127.246094\" xlink:href=\"#DejaVuSans-48\"/>\n       <use x=\"190.869141\" xlink:href=\"#DejaVuSans-48\"/>\n      </g>\n     </g>\n    </g>\n    <g id=\"xtick_5\">\n     <g id=\"line2d_5\">\n      <g>\n       <use style=\"stroke:#000000;stroke-width:0.8;\" x=\"297.646875\" xlink:href=\"#m3748a5943b\" y=\"117.118125\"/>\n      </g>\n     </g>\n     <g id=\"text_5\">\n      <!-- 5000 -->\n      <g transform=\"translate(284.921875 131.716563)scale(0.1 -0.1)\">\n       <defs>\n        <path d=\"M 10.796875 72.90625 \nL 49.515625 72.90625 \nL 49.515625 64.59375 \nL 19.828125 64.59375 \nL 19.828125 46.734375 \nQ 21.96875 47.46875 24.109375 47.828125 \nQ 26.265625 48.1875 28.421875 48.1875 \nQ 40.625 48.1875 47.75 41.5 \nQ 54.890625 34.8125 54.890625 23.390625 \nQ 54.890625 11.625 47.5625 5.09375 \nQ 40.234375 -1.421875 26.90625 -1.421875 \nQ 22.3125 -1.421875 17.546875 -0.640625 \nQ 12.796875 0.140625 7.71875 1.703125 \nL 7.71875 11.625 \nQ 12.109375 9.234375 16.796875 8.0625 \nQ 21.484375 6.890625 26.703125 6.890625 \nQ 35.15625 6.890625 40.078125 11.328125 \nQ 45.015625 15.765625 45.015625 23.390625 \nQ 45.015625 31 40.078125 35.4375 \nQ 35.15625 39.890625 26.703125 39.890625 \nQ 22.75 39.890625 18.8125 39.015625 \nQ 14.890625 38.140625 10.796875 36.28125 \nz\n\" id=\"DejaVuSans-53\"/>\n       </defs>\n       <use xlink:href=\"#DejaVuSans-53\"/>\n       <use x=\"63.623047\" xlink:href=\"#DejaVuSans-48\"/>\n       <use x=\"127.246094\" xlink:href=\"#DejaVuSans-48\"/>\n       <use x=\"190.869141\" xlink:href=\"#DejaVuSans-48\"/>\n      </g>\n     </g>\n    </g>\n    <g id=\"xtick_6\">\n     <g id=\"line2d_6\">\n      <g>\n       <use style=\"stroke:#000000;stroke-width:0.8;\" x=\"350.410764\" xlink:href=\"#m3748a5943b\" y=\"117.118125\"/>\n      </g>\n     </g>\n     <g id=\"text_6\">\n      <!-- 6000 -->\n      <g transform=\"translate(337.685764 131.716563)scale(0.1 -0.1)\">\n       <defs>\n        <path d=\"M 33.015625 40.375 \nQ 26.375 40.375 22.484375 35.828125 \nQ 18.609375 31.296875 18.609375 23.390625 \nQ 18.609375 15.53125 22.484375 10.953125 \nQ 26.375 6.390625 33.015625 6.390625 \nQ 39.65625 6.390625 43.53125 10.953125 \nQ 47.40625 15.53125 47.40625 23.390625 \nQ 47.40625 31.296875 43.53125 35.828125 \nQ 39.65625 40.375 33.015625 40.375 \nz\nM 52.59375 71.296875 \nL 52.59375 62.3125 \nQ 48.875 64.0625 45.09375 64.984375 \nQ 41.3125 65.921875 37.59375 65.921875 \nQ 27.828125 65.921875 22.671875 59.328125 \nQ 17.53125 52.734375 16.796875 39.40625 \nQ 19.671875 43.65625 24.015625 45.921875 \nQ 28.375 48.1875 33.59375 48.1875 \nQ 44.578125 48.1875 50.953125 41.515625 \nQ 57.328125 34.859375 57.328125 23.390625 \nQ 57.328125 12.15625 50.6875 5.359375 \nQ 44.046875 -1.421875 33.015625 -1.421875 \nQ 20.359375 -1.421875 13.671875 8.265625 \nQ 6.984375 17.96875 6.984375 36.375 \nQ 6.984375 53.65625 15.1875 63.9375 \nQ 23.390625 74.21875 37.203125 74.21875 \nQ 40.921875 74.21875 44.703125 73.484375 \nQ 48.484375 72.75 52.59375 71.296875 \nz\n\" id=\"DejaVuSans-54\"/>\n       </defs>\n       <use xlink:href=\"#DejaVuSans-54\"/>\n       <use x=\"63.623047\" xlink:href=\"#DejaVuSans-48\"/>\n       <use x=\"127.246094\" xlink:href=\"#DejaVuSans-48\"/>\n       <use x=\"190.869141\" xlink:href=\"#DejaVuSans-48\"/>\n      </g>\n     </g>\n    </g>\n    <g id=\"xtick_7\">\n     <g id=\"line2d_7\">\n      <g>\n       <use style=\"stroke:#000000;stroke-width:0.8;\" x=\"403.174653\" xlink:href=\"#m3748a5943b\" y=\"117.118125\"/>\n      </g>\n     </g>\n     <g id=\"text_7\">\n      <!-- 7000 -->\n      <g transform=\"translate(390.449653 131.716563)scale(0.1 -0.1)\">\n       <defs>\n        <path d=\"M 8.203125 72.90625 \nL 55.078125 72.90625 \nL 55.078125 68.703125 \nL 28.609375 0 \nL 18.3125 0 \nL 43.21875 64.59375 \nL 8.203125 64.59375 \nz\n\" id=\"DejaVuSans-55\"/>\n       </defs>\n       <use xlink:href=\"#DejaVuSans-55\"/>\n       <use x=\"63.623047\" xlink:href=\"#DejaVuSans-48\"/>\n       <use x=\"127.246094\" xlink:href=\"#DejaVuSans-48\"/>\n       <use x=\"190.869141\" xlink:href=\"#DejaVuSans-48\"/>\n      </g>\n     </g>\n    </g>\n   </g>\n   <g id=\"matplotlib.axis_2\">\n    <g id=\"ytick_1\">\n     <g id=\"line2d_8\">\n      <defs>\n       <path d=\"M 0 0 \nL -3.5 0 \n\" id=\"m710d8062bd\" style=\"stroke:#000000;stroke-width:0.8;\"/>\n      </defs>\n      <g>\n       <use style=\"stroke:#000000;stroke-width:0.8;\" x=\"36.465625\" xlink:href=\"#m710d8062bd\" y=\"115.008594\"/>\n      </g>\n     </g>\n     <g id=\"text_8\">\n      <!-- 0 -->\n      <g transform=\"translate(23.103125 118.807813)scale(0.1 -0.1)\">\n       <use xlink:href=\"#DejaVuSans-48\"/>\n      </g>\n     </g>\n    </g>\n    <g id=\"ytick_2\">\n     <g id=\"line2d_9\">\n      <g>\n       <use style=\"stroke:#000000;stroke-width:0.8;\" x=\"36.465625\" xlink:href=\"#m710d8062bd\" y=\"88.900622\"/>\n      </g>\n     </g>\n     <g id=\"text_9\">\n      <!-- 5 -->\n      <g transform=\"translate(23.103125 92.699841)scale(0.1 -0.1)\">\n       <use xlink:href=\"#DejaVuSans-53\"/>\n      </g>\n     </g>\n    </g>\n    <g id=\"ytick_3\">\n     <g id=\"line2d_10\">\n      <g>\n       <use style=\"stroke:#000000;stroke-width:0.8;\" x=\"36.465625\" xlink:href=\"#m710d8062bd\" y=\"62.79265\"/>\n      </g>\n     </g>\n     <g id=\"text_10\">\n      <!-- 10 -->\n      <g transform=\"translate(16.740625 66.591868)scale(0.1 -0.1)\">\n       <use xlink:href=\"#DejaVuSans-49\"/>\n       <use x=\"63.623047\" xlink:href=\"#DejaVuSans-48\"/>\n      </g>\n     </g>\n    </g>\n    <g id=\"ytick_4\">\n     <g id=\"line2d_11\">\n      <g>\n       <use style=\"stroke:#000000;stroke-width:0.8;\" x=\"36.465625\" xlink:href=\"#m710d8062bd\" y=\"36.684677\"/>\n      </g>\n     </g>\n     <g id=\"text_11\">\n      <!-- 15 -->\n      <g transform=\"translate(16.740625 40.483896)scale(0.1 -0.1)\">\n       <use xlink:href=\"#DejaVuSans-49\"/>\n       <use x=\"63.623047\" xlink:href=\"#DejaVuSans-53\"/>\n      </g>\n     </g>\n    </g>\n   </g>\n   <g id=\"line2d_12\">\n    <path clip-path=\"url(#paab299f53d)\" d=\"M 36.465625 26.627216 \nL 39.103819 95.791685 \nL 41.742014 102.254573 \nL 44.380208 98.784839 \nL 47.018403 101.875137 \nL 49.656597 106.236639 \nL 52.294792 102.235522 \nL 54.932986 106.189326 \nL 57.571181 105.84331 \nL 60.209375 106.680718 \nL 62.847569 106.230898 \nL 65.485764 101.236677 \nL 68.123958 101.476919 \nL 70.762153 106.87001 \nL 73.400347 106.297963 \nL 76.038542 105.936015 \nL 78.676736 105.357232 \nL 81.314931 109.084236 \nL 83.953125 106.159445 \nL 86.591319 104.670957 \nL 89.229514 104.252985 \nL 91.867708 106.579819 \nL 94.505903 105.133933 \nL 99.782292 109.043578 \nL 102.420486 109.975904 \nL 105.058681 111.967094 \nL 107.696875 107.689485 \nL 110.335069 105.629646 \nL 112.973264 107.937557 \nL 115.611458 106.875152 \nL 118.249653 109.406512 \nL 120.887847 104.850122 \nL 123.526042 107.186128 \nL 126.164236 109.213711 \nL 128.802431 107.400349 \nL 131.440625 109.190775 \nL 134.078819 107.517796 \nL 136.717014 109.880532 \nL 139.355208 110.063114 \nL 141.993403 105.395133 \nL 144.631597 104.767719 \nL 147.269792 109.304297 \nL 149.907986 107.958716 \nL 152.546181 108.537968 \nL 155.184375 107.904253 \nL 157.822569 109.866198 \nL 160.460764 108.7274 \nL 163.098958 106.439058 \nL 165.737153 106.747777 \nL 168.375347 108.070574 \nL 171.013542 107.079536 \nL 173.651736 108.925172 \nL 176.289931 110.30669 \nL 178.928125 110.8817 \nL 181.566319 112.510984 \nL 184.204514 108.670306 \nL 186.842708 106.819206 \nL 189.480903 109.128038 \nL 192.119097 108.398441 \nL 194.757292 110.466773 \nL 197.395486 106.567282 \nL 200.033681 108.794418 \nL 202.671875 110.210184 \nL 205.310069 108.594818 \nL 207.948264 109.987655 \nL 210.586458 108.347172 \nL 213.224653 110.60034 \nL 215.862847 110.869489 \nL 218.501042 106.942219 \nL 221.139236 106.109854 \nL 223.777431 110.192532 \nL 226.415625 108.615094 \nL 229.053819 109.346178 \nL 231.692014 108.733863 \nL 234.330208 110.290994 \nL 236.968403 109.898026 \nL 239.606597 107.163116 \nL 242.244792 107.741957 \nL 244.882986 108.893962 \nL 247.521181 108.012485 \nL 250.159375 109.798166 \nL 252.797569 110.899652 \nL 255.435764 111.333451 \nL 258.073958 112.694742 \nL 260.712153 109.293987 \nL 263.350347 107.529335 \nL 265.988542 109.768158 \nL 268.626736 109.125242 \nL 271.264931 111.041034 \nL 273.903125 107.564941 \nL 276.541319 109.542663 \nL 279.179514 110.839045 \nL 281.817708 109.229706 \nL 284.455903 110.472736 \nL 287.094097 108.912112 \nL 289.732292 110.963169 \nL 292.370486 111.190301 \nL 295.008681 107.827551 \nL 297.646875 106.858526 \nL 300.285069 110.690622 \nL 302.923264 109.016699 \nL 305.561458 109.834712 \nL 308.199653 109.212738 \nL 310.837847 110.611688 \nL 313.476042 110.550741 \nL 316.114236 107.599656 \nL 318.752431 108.284676 \nL 321.390625 109.433577 \nL 324.028819 108.592329 \nL 326.667014 110.362118 \nL 329.305208 111.256615 \nL 331.943403 111.610386 \nL 334.581597 112.773569 \nL 337.219792 109.692238 \nL 339.857986 108.046996 \nL 342.496181 110.162812 \nL 345.134375 109.570061 \nL 347.772569 111.406332 \nL 350.410764 108.24266 \nL 353.048958 109.985076 \nL 355.687153 111.269123 \nL 358.325347 109.636818 \nL 360.963542 110.767512 \nL 363.601736 109.302806 \nL 366.239931 111.15558 \nL 368.878125 111.409948 \nL 371.516319 108.413652 \nL 374.154514 107.36496 \nL 376.792708 111.009768 \nL 379.430903 109.264069 \nL 382.069097 110.179472 \nL 384.707292 109.542653 \nL 387.345486 110.864431 \nL 389.983681 110.965797 \nL 392.621875 107.897665 \nL 395.260069 108.677811 \nL 397.898264 109.806348 \nL 400.536458 108.997848 \nL 403.174653 110.774283 \nL 405.812847 111.490884 \nL 408.451042 111.771359 \nL 411.089236 112.809034 \nL 413.727431 109.9629 \nL 416.365625 108.415912 \nL 416.365625 108.415912 \n\" style=\"fill:none;stroke:#008000;stroke-linecap:square;stroke-width:1.5;\"/>\n   </g>\n   <g id=\"patch_3\">\n    <path d=\"M 36.465625 117.118125 \nL 36.465625 22.318125 \n\" style=\"fill:none;stroke:#000000;stroke-linecap:square;stroke-linejoin:miter;stroke-width:0.8;\"/>\n   </g>\n   <g id=\"patch_4\">\n    <path d=\"M 416.365625 117.118125 \nL 416.365625 22.318125 \n\" style=\"fill:none;stroke:#000000;stroke-linecap:square;stroke-linejoin:miter;stroke-width:0.8;\"/>\n   </g>\n   <g id=\"patch_5\">\n    <path d=\"M 36.465625 117.118125 \nL 416.365625 117.118125 \n\" style=\"fill:none;stroke:#000000;stroke-linecap:square;stroke-linejoin:miter;stroke-width:0.8;\"/>\n   </g>\n   <g id=\"patch_6\">\n    <path d=\"M 36.465625 22.318125 \nL 416.365625 22.318125 \n\" style=\"fill:none;stroke:#000000;stroke-linecap:square;stroke-linejoin:miter;stroke-width:0.8;\"/>\n   </g>\n   <g id=\"text_12\">\n    <!-- Loss -->\n    <g transform=\"translate(213.255 16.318125)scale(0.12 -0.12)\">\n     <defs>\n      <path d=\"M 9.8125 72.90625 \nL 19.671875 72.90625 \nL 19.671875 8.296875 \nL 55.171875 8.296875 \nL 55.171875 0 \nL 9.8125 0 \nz\n\" id=\"DejaVuSans-76\"/>\n      <path d=\"M 30.609375 48.390625 \nQ 23.390625 48.390625 19.1875 42.75 \nQ 14.984375 37.109375 14.984375 27.296875 \nQ 14.984375 17.484375 19.15625 11.84375 \nQ 23.34375 6.203125 30.609375 6.203125 \nQ 37.796875 6.203125 41.984375 11.859375 \nQ 46.1875 17.53125 46.1875 27.296875 \nQ 46.1875 37.015625 41.984375 42.703125 \nQ 37.796875 48.390625 30.609375 48.390625 \nz\nM 30.609375 56 \nQ 42.328125 56 49.015625 48.375 \nQ 55.71875 40.765625 55.71875 27.296875 \nQ 55.71875 13.875 49.015625 6.21875 \nQ 42.328125 -1.421875 30.609375 -1.421875 \nQ 18.84375 -1.421875 12.171875 6.21875 \nQ 5.515625 13.875 5.515625 27.296875 \nQ 5.515625 40.765625 12.171875 48.375 \nQ 18.84375 56 30.609375 56 \nz\n\" id=\"DejaVuSans-111\"/>\n      <path d=\"M 44.28125 53.078125 \nL 44.28125 44.578125 \nQ 40.484375 46.53125 36.375 47.5 \nQ 32.28125 48.484375 27.875 48.484375 \nQ 21.1875 48.484375 17.84375 46.4375 \nQ 14.5 44.390625 14.5 40.28125 \nQ 14.5 37.15625 16.890625 35.375 \nQ 19.28125 33.59375 26.515625 31.984375 \nL 29.59375 31.296875 \nQ 39.15625 29.25 43.1875 25.515625 \nQ 47.21875 21.78125 47.21875 15.09375 \nQ 47.21875 7.46875 41.1875 3.015625 \nQ 35.15625 -1.421875 24.609375 -1.421875 \nQ 20.21875 -1.421875 15.453125 -0.5625 \nQ 10.6875 0.296875 5.421875 2 \nL 5.421875 11.28125 \nQ 10.40625 8.6875 15.234375 7.390625 \nQ 20.0625 6.109375 24.8125 6.109375 \nQ 31.15625 6.109375 34.5625 8.28125 \nQ 37.984375 10.453125 37.984375 14.40625 \nQ 37.984375 18.0625 35.515625 20.015625 \nQ 33.0625 21.96875 24.703125 23.78125 \nL 21.578125 24.515625 \nQ 13.234375 26.265625 9.515625 29.90625 \nQ 5.8125 33.546875 5.8125 39.890625 \nQ 5.8125 47.609375 11.28125 51.796875 \nQ 16.75 56 26.8125 56 \nQ 31.78125 56 36.171875 55.265625 \nQ 40.578125 54.546875 44.28125 53.078125 \nz\n\" id=\"DejaVuSans-115\"/>\n     </defs>\n     <use xlink:href=\"#DejaVuSans-76\"/>\n     <use x=\"53.962891\" xlink:href=\"#DejaVuSans-111\"/>\n     <use x=\"115.144531\" xlink:href=\"#DejaVuSans-115\"/>\n     <use x=\"167.244141\" xlink:href=\"#DejaVuSans-115\"/>\n    </g>\n   </g>\n  </g>\n  <g id=\"axes_2\">\n   <g id=\"patch_7\">\n    <path d=\"M 36.465625 255.718125 \nL 416.365625 255.718125 \nL 416.365625 160.918125 \nL 36.465625 160.918125 \nz\n\" style=\"fill:#ffffff;\"/>\n   </g>\n   <g id=\"matplotlib.axis_3\">\n    <g id=\"xtick_8\">\n     <g id=\"line2d_13\">\n      <g>\n       <use style=\"stroke:#000000;stroke-width:0.8;\" x=\"86.591319\" xlink:href=\"#m3748a5943b\" y=\"255.718125\"/>\n      </g>\n     </g>\n     <g id=\"text_13\">\n      <!-- 1000 -->\n      <g transform=\"translate(73.866319 270.316563)scale(0.1 -0.1)\">\n       <use xlink:href=\"#DejaVuSans-49\"/>\n       <use x=\"63.623047\" xlink:href=\"#DejaVuSans-48\"/>\n       <use x=\"127.246094\" xlink:href=\"#DejaVuSans-48\"/>\n       <use x=\"190.869141\" xlink:href=\"#DejaVuSans-48\"/>\n      </g>\n     </g>\n    </g>\n    <g id=\"xtick_9\">\n     <g id=\"line2d_14\">\n      <g>\n       <use style=\"stroke:#000000;stroke-width:0.8;\" x=\"139.355208\" xlink:href=\"#m3748a5943b\" y=\"255.718125\"/>\n      </g>\n     </g>\n     <g id=\"text_14\">\n      <!-- 2000 -->\n      <g transform=\"translate(126.630208 270.316563)scale(0.1 -0.1)\">\n       <use xlink:href=\"#DejaVuSans-50\"/>\n       <use x=\"63.623047\" xlink:href=\"#DejaVuSans-48\"/>\n       <use x=\"127.246094\" xlink:href=\"#DejaVuSans-48\"/>\n       <use x=\"190.869141\" xlink:href=\"#DejaVuSans-48\"/>\n      </g>\n     </g>\n    </g>\n    <g id=\"xtick_10\">\n     <g id=\"line2d_15\">\n      <g>\n       <use style=\"stroke:#000000;stroke-width:0.8;\" x=\"192.119097\" xlink:href=\"#m3748a5943b\" y=\"255.718125\"/>\n      </g>\n     </g>\n     <g id=\"text_15\">\n      <!-- 3000 -->\n      <g transform=\"translate(179.394097 270.316563)scale(0.1 -0.1)\">\n       <use xlink:href=\"#DejaVuSans-51\"/>\n       <use x=\"63.623047\" xlink:href=\"#DejaVuSans-48\"/>\n       <use x=\"127.246094\" xlink:href=\"#DejaVuSans-48\"/>\n       <use x=\"190.869141\" xlink:href=\"#DejaVuSans-48\"/>\n      </g>\n     </g>\n    </g>\n    <g id=\"xtick_11\">\n     <g id=\"line2d_16\">\n      <g>\n       <use style=\"stroke:#000000;stroke-width:0.8;\" x=\"244.882986\" xlink:href=\"#m3748a5943b\" y=\"255.718125\"/>\n      </g>\n     </g>\n     <g id=\"text_16\">\n      <!-- 4000 -->\n      <g transform=\"translate(232.157986 270.316563)scale(0.1 -0.1)\">\n       <use xlink:href=\"#DejaVuSans-52\"/>\n       <use x=\"63.623047\" xlink:href=\"#DejaVuSans-48\"/>\n       <use x=\"127.246094\" xlink:href=\"#DejaVuSans-48\"/>\n       <use x=\"190.869141\" xlink:href=\"#DejaVuSans-48\"/>\n      </g>\n     </g>\n    </g>\n    <g id=\"xtick_12\">\n     <g id=\"line2d_17\">\n      <g>\n       <use style=\"stroke:#000000;stroke-width:0.8;\" x=\"297.646875\" xlink:href=\"#m3748a5943b\" y=\"255.718125\"/>\n      </g>\n     </g>\n     <g id=\"text_17\">\n      <!-- 5000 -->\n      <g transform=\"translate(284.921875 270.316563)scale(0.1 -0.1)\">\n       <use xlink:href=\"#DejaVuSans-53\"/>\n       <use x=\"63.623047\" xlink:href=\"#DejaVuSans-48\"/>\n       <use x=\"127.246094\" xlink:href=\"#DejaVuSans-48\"/>\n       <use x=\"190.869141\" xlink:href=\"#DejaVuSans-48\"/>\n      </g>\n     </g>\n    </g>\n    <g id=\"xtick_13\">\n     <g id=\"line2d_18\">\n      <g>\n       <use style=\"stroke:#000000;stroke-width:0.8;\" x=\"350.410764\" xlink:href=\"#m3748a5943b\" y=\"255.718125\"/>\n      </g>\n     </g>\n     <g id=\"text_18\">\n      <!-- 6000 -->\n      <g transform=\"translate(337.685764 270.316563)scale(0.1 -0.1)\">\n       <use xlink:href=\"#DejaVuSans-54\"/>\n       <use x=\"63.623047\" xlink:href=\"#DejaVuSans-48\"/>\n       <use x=\"127.246094\" xlink:href=\"#DejaVuSans-48\"/>\n       <use x=\"190.869141\" xlink:href=\"#DejaVuSans-48\"/>\n      </g>\n     </g>\n    </g>\n    <g id=\"xtick_14\">\n     <g id=\"line2d_19\">\n      <g>\n       <use style=\"stroke:#000000;stroke-width:0.8;\" x=\"403.174653\" xlink:href=\"#m3748a5943b\" y=\"255.718125\"/>\n      </g>\n     </g>\n     <g id=\"text_19\">\n      <!-- 7000 -->\n      <g transform=\"translate(390.449653 270.316563)scale(0.1 -0.1)\">\n       <use xlink:href=\"#DejaVuSans-55\"/>\n       <use x=\"63.623047\" xlink:href=\"#DejaVuSans-48\"/>\n       <use x=\"127.246094\" xlink:href=\"#DejaVuSans-48\"/>\n       <use x=\"190.869141\" xlink:href=\"#DejaVuSans-48\"/>\n      </g>\n     </g>\n    </g>\n   </g>\n   <g id=\"matplotlib.axis_4\">\n    <g id=\"ytick_5\">\n     <g id=\"line2d_20\">\n      <g>\n       <use style=\"stroke:#000000;stroke-width:0.8;\" x=\"36.465625\" xlink:href=\"#m710d8062bd\" y=\"255.718125\"/>\n      </g>\n     </g>\n     <g id=\"text_20\">\n      <!-- 0.00 -->\n      <g transform=\"translate(7.2 259.517344)scale(0.1 -0.1)\">\n       <defs>\n        <path d=\"M 10.6875 12.40625 \nL 21 12.40625 \nL 21 0 \nL 10.6875 0 \nz\n\" id=\"DejaVuSans-46\"/>\n       </defs>\n       <use xlink:href=\"#DejaVuSans-48\"/>\n       <use x=\"63.623047\" xlink:href=\"#DejaVuSans-46\"/>\n       <use x=\"95.410156\" xlink:href=\"#DejaVuSans-48\"/>\n       <use x=\"159.033203\" xlink:href=\"#DejaVuSans-48\"/>\n      </g>\n     </g>\n    </g>\n    <g id=\"ytick_6\">\n     <g id=\"line2d_21\">\n      <g>\n       <use style=\"stroke:#000000;stroke-width:0.8;\" x=\"36.465625\" xlink:href=\"#m710d8062bd\" y=\"232.018125\"/>\n      </g>\n     </g>\n     <g id=\"text_21\">\n      <!-- 0.25 -->\n      <g transform=\"translate(7.2 235.817344)scale(0.1 -0.1)\">\n       <use xlink:href=\"#DejaVuSans-48\"/>\n       <use x=\"63.623047\" xlink:href=\"#DejaVuSans-46\"/>\n       <use x=\"95.410156\" xlink:href=\"#DejaVuSans-50\"/>\n       <use x=\"159.033203\" xlink:href=\"#DejaVuSans-53\"/>\n      </g>\n     </g>\n    </g>\n    <g id=\"ytick_7\">\n     <g id=\"line2d_22\">\n      <g>\n       <use style=\"stroke:#000000;stroke-width:0.8;\" x=\"36.465625\" xlink:href=\"#m710d8062bd\" y=\"208.318125\"/>\n      </g>\n     </g>\n     <g id=\"text_22\">\n      <!-- 0.50 -->\n      <g transform=\"translate(7.2 212.117344)scale(0.1 -0.1)\">\n       <use xlink:href=\"#DejaVuSans-48\"/>\n       <use x=\"63.623047\" xlink:href=\"#DejaVuSans-46\"/>\n       <use x=\"95.410156\" xlink:href=\"#DejaVuSans-53\"/>\n       <use x=\"159.033203\" xlink:href=\"#DejaVuSans-48\"/>\n      </g>\n     </g>\n    </g>\n    <g id=\"ytick_8\">\n     <g id=\"line2d_23\">\n      <g>\n       <use style=\"stroke:#000000;stroke-width:0.8;\" x=\"36.465625\" xlink:href=\"#m710d8062bd\" y=\"184.618125\"/>\n      </g>\n     </g>\n     <g id=\"text_23\">\n      <!-- 0.75 -->\n      <g transform=\"translate(7.2 188.417344)scale(0.1 -0.1)\">\n       <use xlink:href=\"#DejaVuSans-48\"/>\n       <use x=\"63.623047\" xlink:href=\"#DejaVuSans-46\"/>\n       <use x=\"95.410156\" xlink:href=\"#DejaVuSans-55\"/>\n       <use x=\"159.033203\" xlink:href=\"#DejaVuSans-53\"/>\n      </g>\n     </g>\n    </g>\n    <g id=\"ytick_9\">\n     <g id=\"line2d_24\">\n      <g>\n       <use style=\"stroke:#000000;stroke-width:0.8;\" x=\"36.465625\" xlink:href=\"#m710d8062bd\" y=\"160.918125\"/>\n      </g>\n     </g>\n     <g id=\"text_24\">\n      <!-- 1.00 -->\n      <g transform=\"translate(7.2 164.717344)scale(0.1 -0.1)\">\n       <use xlink:href=\"#DejaVuSans-49\"/>\n       <use x=\"63.623047\" xlink:href=\"#DejaVuSans-46\"/>\n       <use x=\"95.410156\" xlink:href=\"#DejaVuSans-48\"/>\n       <use x=\"159.033203\" xlink:href=\"#DejaVuSans-48\"/>\n      </g>\n     </g>\n    </g>\n   </g>\n   <g id=\"line2d_25\">\n    <path clip-path=\"url(#p68e4983725)\" d=\"M 36.465625 243.441358 \nL 39.103819 210.407716 \nL 41.742014 197.537537 \nL 44.380208 194.928375 \nL 47.018403 190.560257 \nL 49.656597 189.356131 \nL 52.294792 188.658931 \nL 54.932986 187.289821 \nL 57.571181 187.98236 \nL 60.209375 186.050436 \nL 62.847569 186.099669 \nL 65.485764 185.354569 \nL 68.123958 187.242588 \nL 70.762153 185.420431 \nL 73.400347 184.762484 \nL 76.038542 184.543617 \nL 78.676736 184.654051 \nL 81.314931 184.123168 \nL 83.953125 184.520331 \nL 86.591319 183.71403 \nL 89.229514 184.13448 \nL 97.144097 182.98956 \nL 99.782292 182.814598 \nL 102.420486 182.923037 \nL 105.058681 182.801957 \nL 110.335069 183.50048 \nL 112.973264 182.867153 \nL 115.611458 183.441274 \nL 118.249653 182.924365 \nL 120.887847 183.140576 \nL 123.526042 182.952306 \nL 126.164236 183.175835 \nL 128.802431 183.017502 \nL 131.440625 182.61036 \nL 134.078819 183.300237 \nL 136.717014 182.446042 \nL 139.355208 182.555809 \nL 141.993403 182.546497 \nL 144.631597 184.50503 \nL 147.269792 182.61036 \nL 149.907986 182.342259 \nL 152.546181 182.242471 \nL 155.184375 182.479301 \nL 157.822569 182.0389 \nL 160.460764 182.921703 \nL 163.098958 181.90518 \nL 165.737153 182.136693 \nL 168.375347 182.255111 \nL 171.013542 181.782773 \nL 176.289931 181.441493 \nL 178.928125 181.742191 \nL 181.566319 181.468768 \nL 184.204514 181.802731 \nL 186.842708 182.289704 \nL 189.480903 181.583858 \nL 192.119097 182.165302 \nL 194.757292 181.851297 \nL 197.395486 182.131371 \nL 200.033681 181.845974 \nL 202.671875 181.969715 \nL 205.310069 181.920482 \nL 207.948264 181.633091 \nL 210.586458 182.513233 \nL 213.224653 181.46744 \nL 215.862847 181.390271 \nL 218.501042 181.689635 \nL 221.139236 183.321528 \nL 223.777431 181.678329 \nL 229.053819 181.496043 \nL 231.692014 181.690302 \nL 234.330208 181.142789 \nL 236.968403 182.010291 \nL 239.606597 181.094229 \nL 242.244792 181.060964 \nL 244.882986 181.478086 \nL 247.521181 181.050985 \nL 250.159375 180.917266 \nL 252.797569 180.602594 \nL 255.435764 181.043668 \nL 258.073958 180.714361 \nL 260.712153 180.952525 \nL 263.350347 181.577207 \nL 265.988542 181.042334 \nL 268.626736 181.452138 \nL 271.264931 181.379625 \nL 273.903125 181.600493 \nL 276.541319 181.179382 \nL 281.817708 181.245239 \nL 284.455903 181.025038 \nL 287.094097 182.015614 \nL 289.732292 180.92525 \nL 292.370486 180.779557 \nL 295.008681 181.004414 \nL 297.646875 182.503254 \nL 300.285069 181.052313 \nL 308.199653 181.083583 \nL 310.837847 180.560017 \nL 313.476042 181.213975 \nL 316.114236 180.624552 \nL 318.752431 180.450917 \nL 321.390625 180.836769 \nL 324.028819 180.470208 \nL 326.667014 180.410335 \nL 329.305208 180.113626 \nL 331.943403 180.488838 \nL 334.581597 180.138907 \nL 337.219792 180.324515 \nL 339.857986 181.019715 \nL 342.496181 180.645837 \nL 345.134375 180.905292 \nL 347.772569 180.953192 \nL 350.410764 182.330953 \nL 353.048958 180.706377 \nL 358.325347 180.709705 \nL 360.963542 180.534737 \nL 363.601736 181.593837 \nL 366.239931 180.461563 \nL 368.878125 180.285933 \nL 371.516319 180.445594 \nL 374.154514 181.969048 \nL 376.792708 180.511457 \nL 379.430903 180.65116 \nL 382.069097 180.496155 \nL 384.707292 180.600599 \nL 387.345486 180.120944 \nL 389.983681 180.573324 \nL 392.621875 180.130261 \nL 395.260069 179.931346 \nL 397.898264 180.257991 \nL 400.536458 179.971261 \nL 403.174653 180.021822 \nL 405.812847 179.690521 \nL 408.451042 180.031801 \nL 411.089236 179.723786 \nL 413.727431 179.888103 \nL 416.365625 180.58397 \nL 416.365625 180.58397 \n\" style=\"fill:none;stroke:#ff0000;stroke-linecap:square;stroke-width:1.5;\"/>\n   </g>\n   <g id=\"line2d_26\">\n    <defs>\n     <path d=\"M -3 3 \nL 3 -3 \nM -3 -3 \nL 3 3 \n\" id=\"m05e47ee315\" style=\"stroke:#1f77b4;\"/>\n    </defs>\n    <g clip-path=\"url(#p68e4983725)\">\n     <use style=\"fill:#1f77b4;stroke:#1f77b4;\" x=\"36.465625\" xlink:href=\"#m05e47ee315\" y=\"242.698925\"/>\n     <use style=\"fill:#1f77b4;stroke:#1f77b4;\" x=\"39.103819\" xlink:href=\"#m05e47ee315\" y=\"210.365806\"/>\n     <use style=\"fill:#1f77b4;stroke:#1f77b4;\" x=\"41.742014\" xlink:href=\"#m05e47ee315\" y=\"197.826923\"/>\n     <use style=\"fill:#1f77b4;stroke:#1f77b4;\" x=\"44.380208\" xlink:href=\"#m05e47ee315\" y=\"195.311565\"/>\n     <use style=\"fill:#1f77b4;stroke:#1f77b4;\" x=\"47.018403\" xlink:href=\"#m05e47ee315\" y=\"190.558924\"/>\n     <use style=\"fill:#1f77b4;stroke:#1f77b4;\" x=\"49.656597\" xlink:href=\"#m05e47ee315\" y=\"188.852523\"/>\n     <use style=\"fill:#1f77b4;stroke:#1f77b4;\" x=\"52.294792\" xlink:href=\"#m05e47ee315\" y=\"188.941005\"/>\n     <use style=\"fill:#1f77b4;stroke:#1f77b4;\" x=\"54.932986\" xlink:href=\"#m05e47ee315\" y=\"186.905964\"/>\n     <use style=\"fill:#1f77b4;stroke:#1f77b4;\" x=\"57.571181\" xlink:href=\"#m05e47ee315\" y=\"187.613805\"/>\n     <use style=\"fill:#1f77b4;stroke:#1f77b4;\" x=\"60.209375\" xlink:href=\"#m05e47ee315\" y=\"185.856843\"/>\n     <use style=\"fill:#1f77b4;stroke:#1f77b4;\" x=\"62.847569\" xlink:href=\"#m05e47ee315\" y=\"185.869484\"/>\n     <use style=\"fill:#1f77b4;stroke:#1f77b4;\" x=\"65.485764\" xlink:href=\"#m05e47ee315\" y=\"185.250124\"/>\n     <use style=\"fill:#1f77b4;stroke:#1f77b4;\" x=\"68.123958\" xlink:href=\"#m05e47ee315\" y=\"187.424207\"/>\n     <use style=\"fill:#1f77b4;stroke:#1f77b4;\" x=\"70.762153\" xlink:href=\"#m05e47ee315\" y=\"185.186923\"/>\n     <use style=\"fill:#1f77b4;stroke:#1f77b4;\" x=\"73.400347\" xlink:href=\"#m05e47ee315\" y=\"184.580204\"/>\n     <use style=\"fill:#1f77b4;stroke:#1f77b4;\" x=\"76.038542\" xlink:href=\"#m05e47ee315\" y=\"184.554924\"/>\n     <use style=\"fill:#1f77b4;stroke:#1f77b4;\" x=\"78.676736\" xlink:href=\"#m05e47ee315\" y=\"184.833003\"/>\n     <use style=\"fill:#1f77b4;stroke:#1f77b4;\" x=\"81.314931\" xlink:href=\"#m05e47ee315\" y=\"184.137803\"/>\n     <use style=\"fill:#1f77b4;stroke:#1f77b4;\" x=\"83.953125\" xlink:href=\"#m05e47ee315\" y=\"184.441168\"/>\n     <use style=\"fill:#1f77b4;stroke:#1f77b4;\" x=\"86.591319\" xlink:href=\"#m05e47ee315\" y=\"183.897644\"/>\n     <use style=\"fill:#1f77b4;stroke:#1f77b4;\" x=\"89.229514\" xlink:href=\"#m05e47ee315\" y=\"184.125162\"/>\n     <use style=\"fill:#1f77b4;stroke:#1f77b4;\" x=\"91.867708\" xlink:href=\"#m05e47ee315\" y=\"184.061967\"/>\n     <use style=\"fill:#1f77b4;stroke:#1f77b4;\" x=\"94.505903\" xlink:href=\"#m05e47ee315\" y=\"183.290925\"/>\n     <use style=\"fill:#1f77b4;stroke:#1f77b4;\" x=\"97.144097\" xlink:href=\"#m05e47ee315\" y=\"183.265645\"/>\n     <use style=\"fill:#1f77b4;stroke:#1f77b4;\" x=\"99.782292\" xlink:href=\"#m05e47ee315\" y=\"183.101328\"/>\n     <use style=\"fill:#1f77b4;stroke:#1f77b4;\" x=\"102.420486\" xlink:href=\"#m05e47ee315\" y=\"183.063407\"/>\n     <use style=\"fill:#1f77b4;stroke:#1f77b4;\" x=\"105.058681\" xlink:href=\"#m05e47ee315\" y=\"182.823243\"/>\n     <use style=\"fill:#1f77b4;stroke:#1f77b4;\" x=\"107.696875\" xlink:href=\"#m05e47ee315\" y=\"183.518443\"/>\n     <use style=\"fill:#1f77b4;stroke:#1f77b4;\" x=\"110.335069\" xlink:href=\"#m05e47ee315\" y=\"184.049327\"/>\n     <use style=\"fill:#1f77b4;stroke:#1f77b4;\" x=\"112.973264\" xlink:href=\"#m05e47ee315\" y=\"183.164523\"/>\n     <use style=\"fill:#1f77b4;stroke:#1f77b4;\" x=\"115.611458\" xlink:href=\"#m05e47ee315\" y=\"183.531084\"/>\n     <use style=\"fill:#1f77b4;stroke:#1f77b4;\" x=\"118.249653\" xlink:href=\"#m05e47ee315\" y=\"183.328846\"/>\n     <use style=\"fill:#1f77b4;stroke:#1f77b4;\" x=\"120.887847\" xlink:href=\"#m05e47ee315\" y=\"183.556364\"/>\n     <use style=\"fill:#1f77b4;stroke:#1f77b4;\" x=\"123.526042\" xlink:href=\"#m05e47ee315\" y=\"183.000206\"/>\n     <use style=\"fill:#1f77b4;stroke:#1f77b4;\" x=\"126.164236\" xlink:href=\"#m05e47ee315\" y=\"183.531084\"/>\n     <use style=\"fill:#1f77b4;stroke:#1f77b4;\" x=\"128.802431\" xlink:href=\"#m05e47ee315\" y=\"183.531084\"/>\n     <use style=\"fill:#1f77b4;stroke:#1f77b4;\" x=\"131.440625\" xlink:href=\"#m05e47ee315\" y=\"183.101328\"/>\n     <use style=\"fill:#1f77b4;stroke:#1f77b4;\" x=\"134.078819\" xlink:href=\"#m05e47ee315\" y=\"183.594285\"/>\n     <use style=\"fill:#1f77b4;stroke:#1f77b4;\" x=\"136.717014\" xlink:href=\"#m05e47ee315\" y=\"182.823243\"/>\n     <use style=\"fill:#1f77b4;stroke:#1f77b4;\" x=\"139.355208\" xlink:href=\"#m05e47ee315\" y=\"182.848523\"/>\n     <use style=\"fill:#1f77b4;stroke:#1f77b4;\" x=\"141.993403\" xlink:href=\"#m05e47ee315\" y=\"182.823243\"/>\n     <use style=\"fill:#1f77b4;stroke:#1f77b4;\" x=\"144.631597\" xlink:href=\"#m05e47ee315\" y=\"184.807723\"/>\n     <use style=\"fill:#1f77b4;stroke:#1f77b4;\" x=\"147.269792\" xlink:href=\"#m05e47ee315\" y=\"183.113968\"/>\n     <use style=\"fill:#1f77b4;stroke:#1f77b4;\" x=\"149.907986\" xlink:href=\"#m05e47ee315\" y=\"182.684206\"/>\n     <use style=\"fill:#1f77b4;stroke:#1f77b4;\" x=\"152.546181\" xlink:href=\"#m05e47ee315\" y=\"182.608365\"/>\n     <use style=\"fill:#1f77b4;stroke:#1f77b4;\" x=\"155.184375\" xlink:href=\"#m05e47ee315\" y=\"183.063407\"/>\n     <use style=\"fill:#1f77b4;stroke:#1f77b4;\" x=\"157.822569\" xlink:href=\"#m05e47ee315\" y=\"182.431408\"/>\n     <use style=\"fill:#1f77b4;stroke:#1f77b4;\" x=\"160.460764\" xlink:href=\"#m05e47ee315\" y=\"183.113968\"/>\n     <use style=\"fill:#1f77b4;stroke:#1f77b4;\" x=\"163.098958\" xlink:href=\"#m05e47ee315\" y=\"182.355566\"/>\n     <use style=\"fill:#1f77b4;stroke:#1f77b4;\" x=\"165.737153\" xlink:href=\"#m05e47ee315\" y=\"182.633645\"/>\n     <use style=\"fill:#1f77b4;stroke:#1f77b4;\" x=\"168.375347\" xlink:href=\"#m05e47ee315\" y=\"182.848523\"/>\n     <use style=\"fill:#1f77b4;stroke:#1f77b4;\" x=\"171.013542\" xlink:href=\"#m05e47ee315\" y=\"182.254445\"/>\n     <use style=\"fill:#1f77b4;stroke:#1f77b4;\" x=\"173.651736\" xlink:href=\"#m05e47ee315\" y=\"182.052207\"/>\n     <use style=\"fill:#1f77b4;stroke:#1f77b4;\" x=\"176.289931\" xlink:href=\"#m05e47ee315\" y=\"181.938445\"/>\n     <use style=\"fill:#1f77b4;stroke:#1f77b4;\" x=\"178.928125\" xlink:href=\"#m05e47ee315\" y=\"182.406127\"/>\n     <use style=\"fill:#1f77b4;stroke:#1f77b4;\" x=\"181.566319\" xlink:href=\"#m05e47ee315\" y=\"182.052207\"/>\n     <use style=\"fill:#1f77b4;stroke:#1f77b4;\" x=\"184.204514\" xlink:href=\"#m05e47ee315\" y=\"182.342926\"/>\n     <use style=\"fill:#1f77b4;stroke:#1f77b4;\" x=\"186.842708\" xlink:href=\"#m05e47ee315\" y=\"183.139243\"/>\n     <use style=\"fill:#1f77b4;stroke:#1f77b4;\" x=\"189.480903\" xlink:href=\"#m05e47ee315\" y=\"182.292365\"/>\n     <use style=\"fill:#1f77b4;stroke:#1f77b4;\" x=\"192.119097\" xlink:href=\"#m05e47ee315\" y=\"182.646286\"/>\n     <use style=\"fill:#1f77b4;stroke:#1f77b4;\" x=\"194.757292\" xlink:href=\"#m05e47ee315\" y=\"182.608365\"/>\n     <use style=\"fill:#1f77b4;stroke:#1f77b4;\" x=\"197.395486\" xlink:href=\"#m05e47ee315\" y=\"182.974925\"/>\n     <use style=\"fill:#1f77b4;stroke:#1f77b4;\" x=\"200.033681\" xlink:href=\"#m05e47ee315\" y=\"182.203884\"/>\n     <use style=\"fill:#1f77b4;stroke:#1f77b4;\" x=\"202.671875\" xlink:href=\"#m05e47ee315\" y=\"182.557804\"/>\n     <use style=\"fill:#1f77b4;stroke:#1f77b4;\" x=\"205.310069\" xlink:href=\"#m05e47ee315\" y=\"182.646286\"/>\n     <use style=\"fill:#1f77b4;stroke:#1f77b4;\" x=\"207.948264\" xlink:href=\"#m05e47ee315\" y=\"182.064847\"/>\n     <use style=\"fill:#1f77b4;stroke:#1f77b4;\" x=\"210.586458\" xlink:href=\"#m05e47ee315\" y=\"182.722127\"/>\n     <use style=\"fill:#1f77b4;stroke:#1f77b4;\" x=\"213.224653\" xlink:href=\"#m05e47ee315\" y=\"181.849963\"/>\n     <use style=\"fill:#1f77b4;stroke:#1f77b4;\" x=\"215.862847\" xlink:href=\"#m05e47ee315\" y=\"181.748847\"/>\n     <use style=\"fill:#1f77b4;stroke:#1f77b4;\" x=\"218.501042\" xlink:href=\"#m05e47ee315\" y=\"181.976365\"/>\n     <use style=\"fill:#1f77b4;stroke:#1f77b4;\" x=\"221.139236\" xlink:href=\"#m05e47ee315\" y=\"183.758607\"/>\n     <use style=\"fill:#1f77b4;stroke:#1f77b4;\" x=\"223.777431\" xlink:href=\"#m05e47ee315\" y=\"182.229164\"/>\n     <use style=\"fill:#1f77b4;stroke:#1f77b4;\" x=\"226.415625\" xlink:href=\"#m05e47ee315\" y=\"182.052207\"/>\n     <use style=\"fill:#1f77b4;stroke:#1f77b4;\" x=\"229.053819\" xlink:href=\"#m05e47ee315\" y=\"181.913164\"/>\n     <use style=\"fill:#1f77b4;stroke:#1f77b4;\" x=\"231.692014\" xlink:href=\"#m05e47ee315\" y=\"182.241804\"/>\n     <use style=\"fill:#1f77b4;stroke:#1f77b4;\" x=\"234.330208\" xlink:href=\"#m05e47ee315\" y=\"181.673006\"/>\n     <use style=\"fill:#1f77b4;stroke:#1f77b4;\" x=\"236.968403\" xlink:href=\"#m05e47ee315\" y=\"182.393487\"/>\n     <use style=\"fill:#1f77b4;stroke:#1f77b4;\" x=\"239.606597\" xlink:href=\"#m05e47ee315\" y=\"181.837323\"/>\n     <use style=\"fill:#1f77b4;stroke:#1f77b4;\" x=\"242.244792\" xlink:href=\"#m05e47ee315\" y=\"181.432848\"/>\n     <use style=\"fill:#1f77b4;stroke:#1f77b4;\" x=\"244.882986\" xlink:href=\"#m05e47ee315\" y=\"181.951085\"/>\n     <use style=\"fill:#1f77b4;stroke:#1f77b4;\" x=\"247.521181\" xlink:href=\"#m05e47ee315\" y=\"181.496043\"/>\n     <use style=\"fill:#1f77b4;stroke:#1f77b4;\" x=\"250.159375\" xlink:href=\"#m05e47ee315\" y=\"181.407567\"/>\n     <use style=\"fill:#1f77b4;stroke:#1f77b4;\" x=\"252.797569\" xlink:href=\"#m05e47ee315\" y=\"181.243244\"/>\n     <use style=\"fill:#1f77b4;stroke:#1f77b4;\" x=\"255.435764\" xlink:href=\"#m05e47ee315\" y=\"181.698286\"/>\n     <use style=\"fill:#1f77b4;stroke:#1f77b4;\" x=\"258.073958\" xlink:href=\"#m05e47ee315\" y=\"181.293805\"/>\n     <use style=\"fill:#1f77b4;stroke:#1f77b4;\" x=\"260.712153\" xlink:href=\"#m05e47ee315\" y=\"181.382287\"/>\n     <use style=\"fill:#1f77b4;stroke:#1f77b4;\" x=\"263.350347\" xlink:href=\"#m05e47ee315\" y=\"182.342926\"/>\n     <use style=\"fill:#1f77b4;stroke:#1f77b4;\" x=\"265.988542\" xlink:href=\"#m05e47ee315\" y=\"181.925805\"/>\n     <use style=\"fill:#1f77b4;stroke:#1f77b4;\" x=\"268.626736\" xlink:href=\"#m05e47ee315\" y=\"182.178603\"/>\n     <use style=\"fill:#1f77b4;stroke:#1f77b4;\" x=\"271.264931\" xlink:href=\"#m05e47ee315\" y=\"181.976365\"/>\n     <use style=\"fill:#1f77b4;stroke:#1f77b4;\" x=\"273.903125\" xlink:href=\"#m05e47ee315\" y=\"182.241804\"/>\n     <use style=\"fill:#1f77b4;stroke:#1f77b4;\" x=\"276.541319\" xlink:href=\"#m05e47ee315\" y=\"181.584525\"/>\n     <use style=\"fill:#1f77b4;stroke:#1f77b4;\" x=\"279.179514\" xlink:href=\"#m05e47ee315\" y=\"182.026926\"/>\n     <use style=\"fill:#1f77b4;stroke:#1f77b4;\" x=\"281.817708\" xlink:href=\"#m05e47ee315\" y=\"181.837323\"/>\n     <use style=\"fill:#1f77b4;stroke:#1f77b4;\" x=\"284.455903\" xlink:href=\"#m05e47ee315\" y=\"181.571884\"/>\n     <use style=\"fill:#1f77b4;stroke:#1f77b4;\" x=\"287.094097\" xlink:href=\"#m05e47ee315\" y=\"182.621005\"/>\n     <use style=\"fill:#1f77b4;stroke:#1f77b4;\" x=\"289.732292\" xlink:href=\"#m05e47ee315\" y=\"181.609805\"/>\n     <use style=\"fill:#1f77b4;stroke:#1f77b4;\" x=\"292.370486\" xlink:href=\"#m05e47ee315\" y=\"181.470763\"/>\n     <use style=\"fill:#1f77b4;stroke:#1f77b4;\" x=\"295.008681\" xlink:href=\"#m05e47ee315\" y=\"181.508683\"/>\n     <use style=\"fill:#1f77b4;stroke:#1f77b4;\" x=\"297.646875\" xlink:href=\"#m05e47ee315\" y=\"183.000206\"/>\n     <use style=\"fill:#1f77b4;stroke:#1f77b4;\" x=\"300.285069\" xlink:href=\"#m05e47ee315\" y=\"181.774128\"/>\n     <use style=\"fill:#1f77b4;stroke:#1f77b4;\" x=\"302.923264\" xlink:href=\"#m05e47ee315\" y=\"181.761487\"/>\n     <use style=\"fill:#1f77b4;stroke:#1f77b4;\" x=\"305.561458\" xlink:href=\"#m05e47ee315\" y=\"181.521323\"/>\n     <use style=\"fill:#1f77b4;stroke:#1f77b4;\" x=\"308.199653\" xlink:href=\"#m05e47ee315\" y=\"181.837323\"/>\n     <use style=\"fill:#1f77b4;stroke:#1f77b4;\" x=\"310.837847\" xlink:href=\"#m05e47ee315\" y=\"181.217964\"/>\n     <use style=\"fill:#1f77b4;stroke:#1f77b4;\" x=\"313.476042\" xlink:href=\"#m05e47ee315\" y=\"181.685646\"/>\n     <use style=\"fill:#1f77b4;stroke:#1f77b4;\" x=\"316.114236\" xlink:href=\"#m05e47ee315\" y=\"181.357006\"/>\n     <use style=\"fill:#1f77b4;stroke:#1f77b4;\" x=\"318.752431\" xlink:href=\"#m05e47ee315\" y=\"181.154763\"/>\n     <use style=\"fill:#1f77b4;stroke:#1f77b4;\" x=\"321.390625\" xlink:href=\"#m05e47ee315\" y=\"181.698286\"/>\n     <use style=\"fill:#1f77b4;stroke:#1f77b4;\" x=\"324.028819\" xlink:href=\"#m05e47ee315\" y=\"181.230604\"/>\n     <use style=\"fill:#1f77b4;stroke:#1f77b4;\" x=\"326.667014\" xlink:href=\"#m05e47ee315\" y=\"181.116842\"/>\n     <use style=\"fill:#1f77b4;stroke:#1f77b4;\" x=\"329.305208\" xlink:href=\"#m05e47ee315\" y=\"180.838763\"/>\n     <use style=\"fill:#1f77b4;stroke:#1f77b4;\" x=\"331.943403\" xlink:href=\"#m05e47ee315\" y=\"181.470763\"/>\n     <use style=\"fill:#1f77b4;stroke:#1f77b4;\" x=\"334.581597\" xlink:href=\"#m05e47ee315\" y=\"181.003086\"/>\n     <use style=\"fill:#1f77b4;stroke:#1f77b4;\" x=\"337.219792\" xlink:href=\"#m05e47ee315\" y=\"180.901964\"/>\n     <use style=\"fill:#1f77b4;stroke:#1f77b4;\" x=\"339.857986\" xlink:href=\"#m05e47ee315\" y=\"182.115402\"/>\n     <use style=\"fill:#1f77b4;stroke:#1f77b4;\" x=\"342.496181\" xlink:href=\"#m05e47ee315\" y=\"181.546604\"/>\n     <use style=\"fill:#1f77b4;stroke:#1f77b4;\" x=\"345.134375\" xlink:href=\"#m05e47ee315\" y=\"181.900524\"/>\n     <use style=\"fill:#1f77b4;stroke:#1f77b4;\" x=\"347.772569\" xlink:href=\"#m05e47ee315\" y=\"181.761487\"/>\n     <use style=\"fill:#1f77b4;stroke:#1f77b4;\" x=\"350.410764\" xlink:href=\"#m05e47ee315\" y=\"183.240364\"/>\n     <use style=\"fill:#1f77b4;stroke:#1f77b4;\" x=\"353.048958\" xlink:href=\"#m05e47ee315\" y=\"181.281165\"/>\n     <use style=\"fill:#1f77b4;stroke:#1f77b4;\" x=\"355.687153\" xlink:href=\"#m05e47ee315\" y=\"181.559244\"/>\n     <use style=\"fill:#1f77b4;stroke:#1f77b4;\" x=\"358.325347\" xlink:href=\"#m05e47ee315\" y=\"181.470763\"/>\n     <use style=\"fill:#1f77b4;stroke:#1f77b4;\" x=\"360.963542\" xlink:href=\"#m05e47ee315\" y=\"181.041007\"/>\n     <use style=\"fill:#1f77b4;stroke:#1f77b4;\" x=\"363.601736\" xlink:href=\"#m05e47ee315\" y=\"182.140683\"/>\n     <use style=\"fill:#1f77b4;stroke:#1f77b4;\" x=\"366.239931\" xlink:href=\"#m05e47ee315\" y=\"181.243244\"/>\n     <use style=\"fill:#1f77b4;stroke:#1f77b4;\" x=\"368.878125\" xlink:href=\"#m05e47ee315\" y=\"181.041007\"/>\n     <use style=\"fill:#1f77b4;stroke:#1f77b4;\" x=\"371.516319\" xlink:href=\"#m05e47ee315\" y=\"180.952525\"/>\n     <use style=\"fill:#1f77b4;stroke:#1f77b4;\" x=\"374.154514\" xlink:href=\"#m05e47ee315\" y=\"182.772688\"/>\n     <use style=\"fill:#1f77b4;stroke:#1f77b4;\" x=\"376.792708\" xlink:href=\"#m05e47ee315\" y=\"181.319086\"/>\n     <use style=\"fill:#1f77b4;stroke:#1f77b4;\" x=\"379.430903\" xlink:href=\"#m05e47ee315\" y=\"181.407567\"/>\n     <use style=\"fill:#1f77b4;stroke:#1f77b4;\" x=\"382.069097\" xlink:href=\"#m05e47ee315\" y=\"181.331726\"/>\n     <use style=\"fill:#1f77b4;stroke:#1f77b4;\" x=\"384.707292\" xlink:href=\"#m05e47ee315\" y=\"181.597165\"/>\n     <use style=\"fill:#1f77b4;stroke:#1f77b4;\" x=\"387.345486\" xlink:href=\"#m05e47ee315\" y=\"181.078927\"/>\n     <use style=\"fill:#1f77b4;stroke:#1f77b4;\" x=\"389.983681\" xlink:href=\"#m05e47ee315\" y=\"181.243244\"/>\n     <use style=\"fill:#1f77b4;stroke:#1f77b4;\" x=\"392.621875\" xlink:href=\"#m05e47ee315\" y=\"181.091567\"/>\n     <use style=\"fill:#1f77b4;stroke:#1f77b4;\" x=\"395.260069\" xlink:href=\"#m05e47ee315\" y=\"180.535404\"/>\n     <use style=\"fill:#1f77b4;stroke:#1f77b4;\" x=\"397.898264\" xlink:href=\"#m05e47ee315\" y=\"181.230604\"/>\n     <use style=\"fill:#1f77b4;stroke:#1f77b4;\" x=\"400.536458\" xlink:href=\"#m05e47ee315\" y=\"180.838763\"/>\n     <use style=\"fill:#1f77b4;stroke:#1f77b4;\" x=\"403.174653\" xlink:href=\"#m05e47ee315\" y=\"180.788202\"/>\n     <use style=\"fill:#1f77b4;stroke:#1f77b4;\" x=\"405.812847\" xlink:href=\"#m05e47ee315\" y=\"180.687086\"/>\n     <use style=\"fill:#1f77b4;stroke:#1f77b4;\" x=\"408.451042\" xlink:href=\"#m05e47ee315\" y=\"181.154763\"/>\n     <use style=\"fill:#1f77b4;stroke:#1f77b4;\" x=\"411.089236\" xlink:href=\"#m05e47ee315\" y=\"180.762928\"/>\n     <use style=\"fill:#1f77b4;stroke:#1f77b4;\" x=\"413.727431\" xlink:href=\"#m05e47ee315\" y=\"180.598605\"/>\n     <use style=\"fill:#1f77b4;stroke:#1f77b4;\" x=\"416.365625\" xlink:href=\"#m05e47ee315\" y=\"181.673006\"/>\n    </g>\n   </g>\n   <g id=\"patch_8\">\n    <path d=\"M 36.465625 255.718125 \nL 36.465625 160.918125 \n\" style=\"fill:none;stroke:#000000;stroke-linecap:square;stroke-linejoin:miter;stroke-width:0.8;\"/>\n   </g>\n   <g id=\"patch_9\">\n    <path d=\"M 416.365625 255.718125 \nL 416.365625 160.918125 \n\" style=\"fill:none;stroke:#000000;stroke-linecap:square;stroke-linejoin:miter;stroke-width:0.8;\"/>\n   </g>\n   <g id=\"patch_10\">\n    <path d=\"M 36.465625 255.718125 \nL 416.365625 255.718125 \n\" style=\"fill:none;stroke:#000000;stroke-linecap:square;stroke-linejoin:miter;stroke-width:0.8;\"/>\n   </g>\n   <g id=\"patch_11\">\n    <path d=\"M 36.465625 160.918125 \nL 416.365625 160.918125 \n\" style=\"fill:none;stroke:#000000;stroke-linecap:square;stroke-linejoin:miter;stroke-width:0.8;\"/>\n   </g>\n   <g id=\"text_25\">\n    <!-- Accuracy -->\n    <g transform=\"translate(199.021875 154.918125)scale(0.12 -0.12)\">\n     <defs>\n      <path d=\"M 34.1875 63.1875 \nL 20.796875 26.90625 \nL 47.609375 26.90625 \nz\nM 28.609375 72.90625 \nL 39.796875 72.90625 \nL 67.578125 0 \nL 57.328125 0 \nL 50.6875 18.703125 \nL 17.828125 18.703125 \nL 11.1875 0 \nL 0.78125 0 \nz\n\" id=\"DejaVuSans-65\"/>\n      <path d=\"M 48.78125 52.59375 \nL 48.78125 44.1875 \nQ 44.96875 46.296875 41.140625 47.34375 \nQ 37.3125 48.390625 33.40625 48.390625 \nQ 24.65625 48.390625 19.8125 42.84375 \nQ 14.984375 37.3125 14.984375 27.296875 \nQ 14.984375 17.28125 19.8125 11.734375 \nQ 24.65625 6.203125 33.40625 6.203125 \nQ 37.3125 6.203125 41.140625 7.25 \nQ 44.96875 8.296875 48.78125 10.40625 \nL 48.78125 2.09375 \nQ 45.015625 0.34375 40.984375 -0.53125 \nQ 36.96875 -1.421875 32.421875 -1.421875 \nQ 20.0625 -1.421875 12.78125 6.34375 \nQ 5.515625 14.109375 5.515625 27.296875 \nQ 5.515625 40.671875 12.859375 48.328125 \nQ 20.21875 56 33.015625 56 \nQ 37.15625 56 41.109375 55.140625 \nQ 45.0625 54.296875 48.78125 52.59375 \nz\n\" id=\"DejaVuSans-99\"/>\n      <path d=\"M 8.5 21.578125 \nL 8.5 54.6875 \nL 17.484375 54.6875 \nL 17.484375 21.921875 \nQ 17.484375 14.15625 20.5 10.265625 \nQ 23.53125 6.390625 29.59375 6.390625 \nQ 36.859375 6.390625 41.078125 11.03125 \nQ 45.3125 15.671875 45.3125 23.6875 \nL 45.3125 54.6875 \nL 54.296875 54.6875 \nL 54.296875 0 \nL 45.3125 0 \nL 45.3125 8.40625 \nQ 42.046875 3.421875 37.71875 1 \nQ 33.40625 -1.421875 27.6875 -1.421875 \nQ 18.265625 -1.421875 13.375 4.4375 \nQ 8.5 10.296875 8.5 21.578125 \nz\nM 31.109375 56 \nz\n\" id=\"DejaVuSans-117\"/>\n      <path d=\"M 41.109375 46.296875 \nQ 39.59375 47.171875 37.8125 47.578125 \nQ 36.03125 48 33.890625 48 \nQ 26.265625 48 22.1875 43.046875 \nQ 18.109375 38.09375 18.109375 28.8125 \nL 18.109375 0 \nL 9.078125 0 \nL 9.078125 54.6875 \nL 18.109375 54.6875 \nL 18.109375 46.1875 \nQ 20.953125 51.171875 25.484375 53.578125 \nQ 30.03125 56 36.53125 56 \nQ 37.453125 56 38.578125 55.875 \nQ 39.703125 55.765625 41.0625 55.515625 \nz\n\" id=\"DejaVuSans-114\"/>\n      <path d=\"M 34.28125 27.484375 \nQ 23.390625 27.484375 19.1875 25 \nQ 14.984375 22.515625 14.984375 16.5 \nQ 14.984375 11.71875 18.140625 8.90625 \nQ 21.296875 6.109375 26.703125 6.109375 \nQ 34.1875 6.109375 38.703125 11.40625 \nQ 43.21875 16.703125 43.21875 25.484375 \nL 43.21875 27.484375 \nz\nM 52.203125 31.203125 \nL 52.203125 0 \nL 43.21875 0 \nL 43.21875 8.296875 \nQ 40.140625 3.328125 35.546875 0.953125 \nQ 30.953125 -1.421875 24.3125 -1.421875 \nQ 15.921875 -1.421875 10.953125 3.296875 \nQ 6 8.015625 6 15.921875 \nQ 6 25.140625 12.171875 29.828125 \nQ 18.359375 34.515625 30.609375 34.515625 \nL 43.21875 34.515625 \nL 43.21875 35.40625 \nQ 43.21875 41.609375 39.140625 45 \nQ 35.0625 48.390625 27.6875 48.390625 \nQ 23 48.390625 18.546875 47.265625 \nQ 14.109375 46.140625 10.015625 43.890625 \nL 10.015625 52.203125 \nQ 14.9375 54.109375 19.578125 55.046875 \nQ 24.21875 56 28.609375 56 \nQ 40.484375 56 46.34375 49.84375 \nQ 52.203125 43.703125 52.203125 31.203125 \nz\n\" id=\"DejaVuSans-97\"/>\n      <path d=\"M 32.171875 -5.078125 \nQ 28.375 -14.84375 24.75 -17.8125 \nQ 21.140625 -20.796875 15.09375 -20.796875 \nL 7.90625 -20.796875 \nL 7.90625 -13.28125 \nL 13.1875 -13.28125 \nQ 16.890625 -13.28125 18.9375 -11.515625 \nQ 21 -9.765625 23.484375 -3.21875 \nL 25.09375 0.875 \nL 2.984375 54.6875 \nL 12.5 54.6875 \nL 29.59375 11.921875 \nL 46.6875 54.6875 \nL 56.203125 54.6875 \nz\n\" id=\"DejaVuSans-121\"/>\n     </defs>\n     <use xlink:href=\"#DejaVuSans-65\"/>\n     <use x=\"66.658203\" xlink:href=\"#DejaVuSans-99\"/>\n     <use x=\"121.638672\" xlink:href=\"#DejaVuSans-99\"/>\n     <use x=\"176.619141\" xlink:href=\"#DejaVuSans-117\"/>\n     <use x=\"239.998047\" xlink:href=\"#DejaVuSans-114\"/>\n     <use x=\"281.111328\" xlink:href=\"#DejaVuSans-97\"/>\n     <use x=\"342.390625\" xlink:href=\"#DejaVuSans-99\"/>\n     <use x=\"397.371094\" xlink:href=\"#DejaVuSans-121\"/>\n    </g>\n   </g>\n   <g id=\"legend_1\">\n    <g id=\"patch_12\">\n     <path d=\"M 279.15 250.718125 \nL 409.365625 250.718125 \nQ 411.365625 250.718125 411.365625 248.718125 \nL 411.365625 220.361875 \nQ 411.365625 218.361875 409.365625 218.361875 \nL 279.15 218.361875 \nQ 277.15 218.361875 277.15 220.361875 \nL 277.15 248.718125 \nQ 277.15 250.718125 279.15 250.718125 \nz\n\" style=\"fill:#ffffff;opacity:0.8;stroke:#cccccc;stroke-linejoin:miter;\"/>\n    </g>\n    <g id=\"line2d_27\">\n     <path d=\"M 281.15 226.460313 \nL 301.15 226.460313 \n\" style=\"fill:none;stroke:#ff0000;stroke-linecap:square;stroke-width:1.5;\"/>\n    </g>\n    <g id=\"line2d_28\"/>\n    <g id=\"text_26\">\n     <!-- Training Accuracy -->\n     <g transform=\"translate(309.15 229.960313)scale(0.1 -0.1)\">\n      <defs>\n       <path d=\"M -0.296875 72.90625 \nL 61.375 72.90625 \nL 61.375 64.59375 \nL 35.5 64.59375 \nL 35.5 0 \nL 25.59375 0 \nL 25.59375 64.59375 \nL -0.296875 64.59375 \nz\n\" id=\"DejaVuSans-84\"/>\n       <path d=\"M 9.421875 54.6875 \nL 18.40625 54.6875 \nL 18.40625 0 \nL 9.421875 0 \nz\nM 9.421875 75.984375 \nL 18.40625 75.984375 \nL 18.40625 64.59375 \nL 9.421875 64.59375 \nz\n\" id=\"DejaVuSans-105\"/>\n       <path d=\"M 54.890625 33.015625 \nL 54.890625 0 \nL 45.90625 0 \nL 45.90625 32.71875 \nQ 45.90625 40.484375 42.875 44.328125 \nQ 39.84375 48.1875 33.796875 48.1875 \nQ 26.515625 48.1875 22.3125 43.546875 \nQ 18.109375 38.921875 18.109375 30.90625 \nL 18.109375 0 \nL 9.078125 0 \nL 9.078125 54.6875 \nL 18.109375 54.6875 \nL 18.109375 46.1875 \nQ 21.34375 51.125 25.703125 53.5625 \nQ 30.078125 56 35.796875 56 \nQ 45.21875 56 50.046875 50.171875 \nQ 54.890625 44.34375 54.890625 33.015625 \nz\n\" id=\"DejaVuSans-110\"/>\n       <path d=\"M 45.40625 27.984375 \nQ 45.40625 37.75 41.375 43.109375 \nQ 37.359375 48.484375 30.078125 48.484375 \nQ 22.859375 48.484375 18.828125 43.109375 \nQ 14.796875 37.75 14.796875 27.984375 \nQ 14.796875 18.265625 18.828125 12.890625 \nQ 22.859375 7.515625 30.078125 7.515625 \nQ 37.359375 7.515625 41.375 12.890625 \nQ 45.40625 18.265625 45.40625 27.984375 \nz\nM 54.390625 6.78125 \nQ 54.390625 -7.171875 48.1875 -13.984375 \nQ 42 -20.796875 29.203125 -20.796875 \nQ 24.46875 -20.796875 20.265625 -20.09375 \nQ 16.0625 -19.390625 12.109375 -17.921875 \nL 12.109375 -9.1875 \nQ 16.0625 -11.328125 19.921875 -12.34375 \nQ 23.78125 -13.375 27.78125 -13.375 \nQ 36.625 -13.375 41.015625 -8.765625 \nQ 45.40625 -4.15625 45.40625 5.171875 \nL 45.40625 9.625 \nQ 42.625 4.78125 38.28125 2.390625 \nQ 33.9375 0 27.875 0 \nQ 17.828125 0 11.671875 7.65625 \nQ 5.515625 15.328125 5.515625 27.984375 \nQ 5.515625 40.671875 11.671875 48.328125 \nQ 17.828125 56 27.875 56 \nQ 33.9375 56 38.28125 53.609375 \nQ 42.625 51.21875 45.40625 46.390625 \nL 45.40625 54.6875 \nL 54.390625 54.6875 \nz\n\" id=\"DejaVuSans-103\"/>\n       <path id=\"DejaVuSans-32\"/>\n      </defs>\n      <use xlink:href=\"#DejaVuSans-84\"/>\n      <use x=\"46.333984\" xlink:href=\"#DejaVuSans-114\"/>\n      <use x=\"87.447266\" xlink:href=\"#DejaVuSans-97\"/>\n      <use x=\"148.726562\" xlink:href=\"#DejaVuSans-105\"/>\n      <use x=\"176.509766\" xlink:href=\"#DejaVuSans-110\"/>\n      <use x=\"239.888672\" xlink:href=\"#DejaVuSans-105\"/>\n      <use x=\"267.671875\" xlink:href=\"#DejaVuSans-110\"/>\n      <use x=\"331.050781\" xlink:href=\"#DejaVuSans-103\"/>\n      <use x=\"394.527344\" xlink:href=\"#DejaVuSans-32\"/>\n      <use x=\"426.314453\" xlink:href=\"#DejaVuSans-65\"/>\n      <use x=\"492.972656\" xlink:href=\"#DejaVuSans-99\"/>\n      <use x=\"547.953125\" xlink:href=\"#DejaVuSans-99\"/>\n      <use x=\"602.933594\" xlink:href=\"#DejaVuSans-117\"/>\n      <use x=\"666.3125\" xlink:href=\"#DejaVuSans-114\"/>\n      <use x=\"707.425781\" xlink:href=\"#DejaVuSans-97\"/>\n      <use x=\"768.705078\" xlink:href=\"#DejaVuSans-99\"/>\n      <use x=\"823.685547\" xlink:href=\"#DejaVuSans-121\"/>\n     </g>\n    </g>\n    <g id=\"line2d_29\"/>\n    <g id=\"line2d_30\">\n     <g>\n      <use style=\"fill:#1f77b4;stroke:#1f77b4;\" x=\"291.15\" xlink:href=\"#m05e47ee315\" y=\"241.138438\"/>\n     </g>\n    </g>\n    <g id=\"text_27\">\n     <!-- Validation Accuracy -->\n     <g transform=\"translate(309.15 244.638438)scale(0.1 -0.1)\">\n      <defs>\n       <path d=\"M 28.609375 0 \nL 0.78125 72.90625 \nL 11.078125 72.90625 \nL 34.1875 11.53125 \nL 57.328125 72.90625 \nL 67.578125 72.90625 \nL 39.796875 0 \nz\n\" id=\"DejaVuSans-86\"/>\n       <path d=\"M 9.421875 75.984375 \nL 18.40625 75.984375 \nL 18.40625 0 \nL 9.421875 0 \nz\n\" id=\"DejaVuSans-108\"/>\n       <path d=\"M 45.40625 46.390625 \nL 45.40625 75.984375 \nL 54.390625 75.984375 \nL 54.390625 0 \nL 45.40625 0 \nL 45.40625 8.203125 \nQ 42.578125 3.328125 38.25 0.953125 \nQ 33.9375 -1.421875 27.875 -1.421875 \nQ 17.96875 -1.421875 11.734375 6.484375 \nQ 5.515625 14.40625 5.515625 27.296875 \nQ 5.515625 40.1875 11.734375 48.09375 \nQ 17.96875 56 27.875 56 \nQ 33.9375 56 38.25 53.625 \nQ 42.578125 51.265625 45.40625 46.390625 \nz\nM 14.796875 27.296875 \nQ 14.796875 17.390625 18.875 11.75 \nQ 22.953125 6.109375 30.078125 6.109375 \nQ 37.203125 6.109375 41.296875 11.75 \nQ 45.40625 17.390625 45.40625 27.296875 \nQ 45.40625 37.203125 41.296875 42.84375 \nQ 37.203125 48.484375 30.078125 48.484375 \nQ 22.953125 48.484375 18.875 42.84375 \nQ 14.796875 37.203125 14.796875 27.296875 \nz\n\" id=\"DejaVuSans-100\"/>\n       <path d=\"M 18.3125 70.21875 \nL 18.3125 54.6875 \nL 36.8125 54.6875 \nL 36.8125 47.703125 \nL 18.3125 47.703125 \nL 18.3125 18.015625 \nQ 18.3125 11.328125 20.140625 9.421875 \nQ 21.96875 7.515625 27.59375 7.515625 \nL 36.8125 7.515625 \nL 36.8125 0 \nL 27.59375 0 \nQ 17.1875 0 13.234375 3.875 \nQ 9.28125 7.765625 9.28125 18.015625 \nL 9.28125 47.703125 \nL 2.6875 47.703125 \nL 2.6875 54.6875 \nL 9.28125 54.6875 \nL 9.28125 70.21875 \nz\n\" id=\"DejaVuSans-116\"/>\n      </defs>\n      <use xlink:href=\"#DejaVuSans-86\"/>\n      <use x=\"60.658203\" xlink:href=\"#DejaVuSans-97\"/>\n      <use x=\"121.9375\" xlink:href=\"#DejaVuSans-108\"/>\n      <use x=\"149.720703\" xlink:href=\"#DejaVuSans-105\"/>\n      <use x=\"177.503906\" xlink:href=\"#DejaVuSans-100\"/>\n      <use x=\"240.980469\" xlink:href=\"#DejaVuSans-97\"/>\n      <use x=\"302.259766\" xlink:href=\"#DejaVuSans-116\"/>\n      <use x=\"341.46875\" xlink:href=\"#DejaVuSans-105\"/>\n      <use x=\"369.251953\" xlink:href=\"#DejaVuSans-111\"/>\n      <use x=\"430.433594\" xlink:href=\"#DejaVuSans-110\"/>\n      <use x=\"493.8125\" xlink:href=\"#DejaVuSans-32\"/>\n      <use x=\"525.599609\" xlink:href=\"#DejaVuSans-65\"/>\n      <use x=\"592.257812\" xlink:href=\"#DejaVuSans-99\"/>\n      <use x=\"647.238281\" xlink:href=\"#DejaVuSans-99\"/>\n      <use x=\"702.21875\" xlink:href=\"#DejaVuSans-117\"/>\n      <use x=\"765.597656\" xlink:href=\"#DejaVuSans-114\"/>\n      <use x=\"806.710938\" xlink:href=\"#DejaVuSans-97\"/>\n      <use x=\"867.990234\" xlink:href=\"#DejaVuSans-99\"/>\n      <use x=\"922.970703\" xlink:href=\"#DejaVuSans-121\"/>\n     </g>\n    </g>\n   </g>\n  </g>\n </g>\n <defs>\n  <clipPath id=\"paab299f53d\">\n   <rect height=\"94.8\" width=\"379.9\" x=\"36.465625\" y=\"22.318125\"/>\n  </clipPath>\n  <clipPath id=\"p68e4983725\">\n   <rect height=\"94.8\" width=\"379.9\" x=\"36.465625\" y=\"160.918125\"/>\n  </clipPath>\n </defs>\n</svg>\n",
      "image/png": "[encoded data removed]"
     },
     "metadata": {
      "needs_background": "light"
     }
    },
    {
     "output_type": "stream",
     "name": "stdout",
     "text": [
      "Validation accuracy at 0.7830666899681091\n"
     ]
    }
   ],
   "source": [
    "# Configuration 1\n",
    "# epochs = 1\n",
    "# batch_size = 50\n",
    "# learning_rate = 0.01\n",
    "\n",
    "# Configuration 2\n",
    "# epochs = 1\n",
    "# batch_size = 100\n",
    "# learning_rate = 0.1\n",
    "\n",
    "# Configuration 3\n",
    "epochs = 5\n",
    "batch_size = 100\n",
    "learning_rate = 0.2\n",
    "\n",
    "### DON'T MODIFY ANYTHING BELOW ###\n",
    "# Gradient Descent\n",
    "optimizer = tf.train.GradientDescentOptimizer(learning_rate).minimize(loss)    \n",
    "\n",
    "# The accuracy measured against the validation set\n",
    "validation_accuracy = 0.0\n",
    "\n",
    "# Measurements use for graphing loss and accuracy\n",
    "log_batch_step = 50\n",
    "batches = []\n",
    "loss_batch = []\n",
    "train_acc_batch = []\n",
    "valid_acc_batch = []\n",
    "\n",
    "with tf.Session() as session:\n",
    "    session.run(init)\n",
    "    batch_count = int(math.ceil(len(train_features)/batch_size))\n",
    "\n",
    "    for epoch_i in range(epochs):\n",
    "        \n",
    "        # Progress bar\n",
    "        batches_pbar = tqdm(range(batch_count), desc='Epoch {:>2}/{}'.format(epoch_i+1, epochs), unit='batches')\n",
    "        \n",
    "        # The training cycle\n",
    "        for batch_i in batches_pbar:\n",
    "            # Get a batch of training features and labels\n",
    "            batch_start = batch_i*batch_size\n",
    "            batch_features = train_features[batch_start:batch_start + batch_size]\n",
    "            batch_labels = train_labels[batch_start:batch_start + batch_size]\n",
    "\n",
    "            # Run optimizer and get loss\n",
    "            _, l = session.run(\n",
    "                [optimizer, loss],\n",
    "                feed_dict={features: batch_features, labels: batch_labels})\n",
    "\n",
    "            # Log every 50 batches\n",
    "            if not batch_i % log_batch_step:\n",
    "                # Calculate Training and Validation accuracy\n",
    "                training_accuracy = session.run(accuracy, feed_dict=train_feed_dict)\n",
    "                validation_accuracy = session.run(accuracy, feed_dict=valid_feed_dict)\n",
    "\n",
    "                # Log batches\n",
    "                previous_batch = batches[-1] if batches else 0\n",
    "                batches.append(log_batch_step + previous_batch)\n",
    "                loss_batch.append(l)\n",
    "                train_acc_batch.append(training_accuracy)\n",
    "                valid_acc_batch.append(validation_accuracy)\n",
    "\n",
    "        # Check accuracy against Validation data\n",
    "        validation_accuracy = session.run(accuracy, feed_dict=valid_feed_dict)\n",
    "\n",
    "loss_plot = plt.subplot(211)\n",
    "loss_plot.set_title('Loss')\n",
    "loss_plot.plot(batches, loss_batch, 'g')\n",
    "loss_plot.set_xlim([batches[0], batches[-1]])\n",
    "acc_plot = plt.subplot(212)\n",
    "acc_plot.set_title('Accuracy')\n",
    "acc_plot.plot(batches, train_acc_batch, 'r', label='Training Accuracy')\n",
    "acc_plot.plot(batches, valid_acc_batch, 'x', label='Validation Accuracy')\n",
    "acc_plot.set_ylim([0, 1.0])\n",
    "acc_plot.set_xlim([batches[0], batches[-1]])\n",
    "acc_plot.legend(loc=4)\n",
    "plt.tight_layout()\n",
    "plt.show()\n",
    "\n",
    "print('Validation accuracy at {}'.format(validation_accuracy))"
   ]
  },
  {
   "cell_type": "markdown",
   "metadata": {},
   "source": [
    "## Test\n",
    "\n",
    "Set the epochs, batch_size, and learning_rate with the best learning parameters you discovered in problem 3.  You're going to test your model against your hold out dataset/testing data.  This will give you a good indicator of how well the model will do in the real world.  You should have a test accuracy of at least 80%."
   ]
  },
  {
   "cell_type": "code",
   "execution_count": 45,
   "metadata": {},
   "outputs": [
    {
     "output_type": "stream",
     "name": "stderr",
     "text": [
      "Epoch  1/5: 100%|██████████| 2850/2850 [00:00<00:00, 2949.15batches/s]\n",
      "Epoch  2/5: 100%|██████████| 2850/2850 [00:00<00:00, 3091.03batches/s]\n",
      "Epoch  3/5: 100%|██████████| 2850/2850 [00:00<00:00, 3087.58batches/s]\n",
      "Epoch  4/5: 100%|██████████| 2850/2850 [00:00<00:00, 3329.82batches/s]\n",
      "Epoch  5/5: 100%|██████████| 2850/2850 [00:00<00:00, 3288.23batches/s]Nice Job! Test Accuracy is 0.847100019454956\n",
      "\n"
     ]
    }
   ],
   "source": [
    "# TODO: Set the epochs, batch_size, and learning_rate with the best parameters from problem 3\n",
    "epochs = 5\n",
    "batch_size = 50\n",
    "learning_rate = 0.1\n",
    "\n",
    "\n",
    "\n",
    "### DON'T MODIFY ANYTHING BELOW ###\n",
    "# The accuracy measured against the test set\n",
    "test_accuracy = 0.0\n",
    "\n",
    "with tf.Session() as session:\n",
    "    \n",
    "    session.run(init)\n",
    "    batch_count = int(math.ceil(len(train_features)/batch_size))\n",
    "\n",
    "    for epoch_i in range(epochs):\n",
    "        \n",
    "        # Progress bar\n",
    "        batches_pbar = tqdm(range(batch_count), desc='Epoch {:>2}/{}'.format(epoch_i+1, epochs), unit='batches')\n",
    "        \n",
    "        # The training cycle\n",
    "        for batch_i in batches_pbar:\n",
    "            # Get a batch of training features and labels\n",
    "            batch_start = batch_i*batch_size\n",
    "            batch_features = train_features[batch_start:batch_start + batch_size]\n",
    "            batch_labels = train_labels[batch_start:batch_start + batch_size]\n",
    "\n",
    "            # Run optimizer\n",
    "            _ = session.run(optimizer, feed_dict={features: batch_features, labels: batch_labels})\n",
    "\n",
    "        # Check accuracy against Test data\n",
    "        test_accuracy = session.run(accuracy, feed_dict=test_feed_dict)\n",
    "\n",
    "\n",
    "assert test_accuracy >= 0.80, 'Test accuracy at {}, should be equal to or greater than 0.80'.format(test_accuracy)\n",
    "print('Nice Job! Test Accuracy is {}'.format(test_accuracy))"
   ]
  },
  {
   "cell_type": "markdown",
   "metadata": {},
   "source": [
    "# Multiple layers\n",
    "\n",
    "Good job!  You built a one layer TensorFlow network!  However, you want to build more than one layer.  This is deep learning after all!  In the next section, you will start to satisfy your need for more layers."
   ]
  },
  {
   "cell_type": "code",
   "execution_count": null,
   "metadata": {
    "collapsed": true
   },
   "outputs": [],
   "source": []
  }
 ],
 "metadata": {
  "anaconda-cloud": {},
  "kernelspec": {
   "display_name": "Python 3",
   "language": "python",
   "name": "python3"
  },
  "language_info": {
   "codemirror_mode": {
    "name": "ipython",
    "version": 3
   },
   "file_extension": ".py",
   "mimetype": "text/x-python",
   "name": "python",
   "nbconvert_exporter": "python",
   "pygments_lexer": "ipython3",
   "version": "3.7.9-final"
  }
 },
 "nbformat": 4,
 "nbformat_minor": 1
}